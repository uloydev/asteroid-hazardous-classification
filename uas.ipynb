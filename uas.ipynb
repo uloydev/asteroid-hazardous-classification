{
 "cells": [
  {
   "cell_type": "code",
   "execution_count": 151,
   "metadata": {},
   "outputs": [],
   "source": [
    "import numpy as np\n",
    "import pandas as pd\n",
    "import seaborn as sns\n",
    "import matplotlib.pyplot as plt\n",
    "\n",
    "import plotly.express as px\n",
    "from sklearn.model_selection import train_test_split \n",
    "\n",
    "from sklearn.naive_bayes import GaussianNB\n",
    "from sklearn.svm import LinearSVC\n",
    "from sklearn.ensemble import RandomForestClassifier\n",
    "\n",
    "from sklearn.metrics import classification_report\n",
    "from sklearn.metrics import plot_confusion_matrix\n",
    "from sklearn.metrics import precision_recall_fscore_support as score"
   ]
  },
  {
   "cell_type": "code",
   "execution_count": 152,
   "metadata": {},
   "outputs": [
    {
     "data": {
      "text/html": [
       "<div>\n",
       "<style scoped>\n",
       "    .dataframe tbody tr th:only-of-type {\n",
       "        vertical-align: middle;\n",
       "    }\n",
       "\n",
       "    .dataframe tbody tr th {\n",
       "        vertical-align: top;\n",
       "    }\n",
       "\n",
       "    .dataframe thead th {\n",
       "        text-align: right;\n",
       "    }\n",
       "</style>\n",
       "<table border=\"1\" class=\"dataframe\">\n",
       "  <thead>\n",
       "    <tr style=\"text-align: right;\">\n",
       "      <th></th>\n",
       "      <th>Neo Reference ID</th>\n",
       "      <th>Name</th>\n",
       "      <th>Absolute Magnitude</th>\n",
       "      <th>Est Dia in KM(min)</th>\n",
       "      <th>Est Dia in KM(max)</th>\n",
       "      <th>Est Dia in M(min)</th>\n",
       "      <th>Est Dia in M(max)</th>\n",
       "      <th>Est Dia in Miles(min)</th>\n",
       "      <th>Est Dia in Miles(max)</th>\n",
       "      <th>Est Dia in Feet(min)</th>\n",
       "      <th>...</th>\n",
       "      <th>Asc Node Longitude</th>\n",
       "      <th>Orbital Period</th>\n",
       "      <th>Perihelion Distance</th>\n",
       "      <th>Perihelion Arg</th>\n",
       "      <th>Aphelion Dist</th>\n",
       "      <th>Perihelion Time</th>\n",
       "      <th>Mean Anomaly</th>\n",
       "      <th>Mean Motion</th>\n",
       "      <th>Equinox</th>\n",
       "      <th>Hazardous</th>\n",
       "    </tr>\n",
       "  </thead>\n",
       "  <tbody>\n",
       "    <tr>\n",
       "      <th>0</th>\n",
       "      <td>3703080</td>\n",
       "      <td>3703080</td>\n",
       "      <td>21.6</td>\n",
       "      <td>0.127220</td>\n",
       "      <td>0.284472</td>\n",
       "      <td>127.219879</td>\n",
       "      <td>284.472297</td>\n",
       "      <td>0.079051</td>\n",
       "      <td>0.176763</td>\n",
       "      <td>417.388066</td>\n",
       "      <td>...</td>\n",
       "      <td>314.373913</td>\n",
       "      <td>609.599786</td>\n",
       "      <td>0.808259</td>\n",
       "      <td>57.257470</td>\n",
       "      <td>2.005764</td>\n",
       "      <td>2.458162e+06</td>\n",
       "      <td>264.837533</td>\n",
       "      <td>0.590551</td>\n",
       "      <td>J2000</td>\n",
       "      <td>True</td>\n",
       "    </tr>\n",
       "    <tr>\n",
       "      <th>1</th>\n",
       "      <td>3723955</td>\n",
       "      <td>3723955</td>\n",
       "      <td>21.3</td>\n",
       "      <td>0.146068</td>\n",
       "      <td>0.326618</td>\n",
       "      <td>146.067964</td>\n",
       "      <td>326.617897</td>\n",
       "      <td>0.090762</td>\n",
       "      <td>0.202951</td>\n",
       "      <td>479.225620</td>\n",
       "      <td>...</td>\n",
       "      <td>136.717242</td>\n",
       "      <td>425.869294</td>\n",
       "      <td>0.718200</td>\n",
       "      <td>313.091975</td>\n",
       "      <td>1.497352</td>\n",
       "      <td>2.457795e+06</td>\n",
       "      <td>173.741112</td>\n",
       "      <td>0.845330</td>\n",
       "      <td>J2000</td>\n",
       "      <td>False</td>\n",
       "    </tr>\n",
       "    <tr>\n",
       "      <th>2</th>\n",
       "      <td>2446862</td>\n",
       "      <td>2446862</td>\n",
       "      <td>20.3</td>\n",
       "      <td>0.231502</td>\n",
       "      <td>0.517654</td>\n",
       "      <td>231.502122</td>\n",
       "      <td>517.654482</td>\n",
       "      <td>0.143849</td>\n",
       "      <td>0.321655</td>\n",
       "      <td>759.521423</td>\n",
       "      <td>...</td>\n",
       "      <td>259.475979</td>\n",
       "      <td>643.580228</td>\n",
       "      <td>0.950791</td>\n",
       "      <td>248.415038</td>\n",
       "      <td>1.966857</td>\n",
       "      <td>2.458120e+06</td>\n",
       "      <td>292.893654</td>\n",
       "      <td>0.559371</td>\n",
       "      <td>J2000</td>\n",
       "      <td>True</td>\n",
       "    </tr>\n",
       "    <tr>\n",
       "      <th>3</th>\n",
       "      <td>3092506</td>\n",
       "      <td>3092506</td>\n",
       "      <td>27.4</td>\n",
       "      <td>0.008801</td>\n",
       "      <td>0.019681</td>\n",
       "      <td>8.801465</td>\n",
       "      <td>19.680675</td>\n",
       "      <td>0.005469</td>\n",
       "      <td>0.012229</td>\n",
       "      <td>28.876199</td>\n",
       "      <td>...</td>\n",
       "      <td>57.173266</td>\n",
       "      <td>514.082140</td>\n",
       "      <td>0.983902</td>\n",
       "      <td>18.707701</td>\n",
       "      <td>1.527904</td>\n",
       "      <td>2.457902e+06</td>\n",
       "      <td>68.741007</td>\n",
       "      <td>0.700277</td>\n",
       "      <td>J2000</td>\n",
       "      <td>False</td>\n",
       "    </tr>\n",
       "    <tr>\n",
       "      <th>4</th>\n",
       "      <td>3514799</td>\n",
       "      <td>3514799</td>\n",
       "      <td>21.6</td>\n",
       "      <td>0.127220</td>\n",
       "      <td>0.284472</td>\n",
       "      <td>127.219879</td>\n",
       "      <td>284.472297</td>\n",
       "      <td>0.079051</td>\n",
       "      <td>0.176763</td>\n",
       "      <td>417.388066</td>\n",
       "      <td>...</td>\n",
       "      <td>84.629307</td>\n",
       "      <td>495.597821</td>\n",
       "      <td>0.967687</td>\n",
       "      <td>158.263596</td>\n",
       "      <td>1.483543</td>\n",
       "      <td>2.457814e+06</td>\n",
       "      <td>135.142133</td>\n",
       "      <td>0.726395</td>\n",
       "      <td>J2000</td>\n",
       "      <td>True</td>\n",
       "    </tr>\n",
       "  </tbody>\n",
       "</table>\n",
       "<p>5 rows × 40 columns</p>\n",
       "</div>"
      ],
      "text/plain": [
       "   Neo Reference ID     Name  Absolute Magnitude  Est Dia in KM(min)  \\\n",
       "0           3703080  3703080                21.6            0.127220   \n",
       "1           3723955  3723955                21.3            0.146068   \n",
       "2           2446862  2446862                20.3            0.231502   \n",
       "3           3092506  3092506                27.4            0.008801   \n",
       "4           3514799  3514799                21.6            0.127220   \n",
       "\n",
       "   Est Dia in KM(max)  Est Dia in M(min)  Est Dia in M(max)  \\\n",
       "0            0.284472         127.219879         284.472297   \n",
       "1            0.326618         146.067964         326.617897   \n",
       "2            0.517654         231.502122         517.654482   \n",
       "3            0.019681           8.801465          19.680675   \n",
       "4            0.284472         127.219879         284.472297   \n",
       "\n",
       "   Est Dia in Miles(min)  Est Dia in Miles(max)  Est Dia in Feet(min)  ...  \\\n",
       "0               0.079051               0.176763            417.388066  ...   \n",
       "1               0.090762               0.202951            479.225620  ...   \n",
       "2               0.143849               0.321655            759.521423  ...   \n",
       "3               0.005469               0.012229             28.876199  ...   \n",
       "4               0.079051               0.176763            417.388066  ...   \n",
       "\n",
       "   Asc Node Longitude Orbital Period  Perihelion Distance  Perihelion Arg  \\\n",
       "0          314.373913     609.599786             0.808259       57.257470   \n",
       "1          136.717242     425.869294             0.718200      313.091975   \n",
       "2          259.475979     643.580228             0.950791      248.415038   \n",
       "3           57.173266     514.082140             0.983902       18.707701   \n",
       "4           84.629307     495.597821             0.967687      158.263596   \n",
       "\n",
       "   Aphelion Dist  Perihelion Time  Mean Anomaly  Mean Motion  Equinox  \\\n",
       "0       2.005764     2.458162e+06    264.837533     0.590551    J2000   \n",
       "1       1.497352     2.457795e+06    173.741112     0.845330    J2000   \n",
       "2       1.966857     2.458120e+06    292.893654     0.559371    J2000   \n",
       "3       1.527904     2.457902e+06     68.741007     0.700277    J2000   \n",
       "4       1.483543     2.457814e+06    135.142133     0.726395    J2000   \n",
       "\n",
       "   Hazardous  \n",
       "0       True  \n",
       "1      False  \n",
       "2       True  \n",
       "3      False  \n",
       "4       True  \n",
       "\n",
       "[5 rows x 40 columns]"
      ]
     },
     "execution_count": 152,
     "metadata": {},
     "output_type": "execute_result"
    }
   ],
   "source": [
    "# read dataset\n",
    "data = pd.read_csv(\"./nasa.csv\")\n",
    "data.head()"
   ]
  },
  {
   "cell_type": "code",
   "execution_count": 153,
   "metadata": {},
   "outputs": [
    {
     "data": {
      "text/plain": [
       "(4687, 40)"
      ]
     },
     "execution_count": 153,
     "metadata": {},
     "output_type": "execute_result"
    }
   ],
   "source": [
    "data.shape"
   ]
  },
  {
   "cell_type": "code",
   "execution_count": 154,
   "metadata": {},
   "outputs": [
    {
     "name": "stdout",
     "output_type": "stream",
     "text": [
      "<class 'pandas.core.frame.DataFrame'>\n",
      "RangeIndex: 4687 entries, 0 to 4686\n",
      "Data columns (total 40 columns):\n",
      " #   Column                        Non-Null Count  Dtype  \n",
      "---  ------                        --------------  -----  \n",
      " 0   Neo Reference ID              4687 non-null   int64  \n",
      " 1   Name                          4687 non-null   int64  \n",
      " 2   Absolute Magnitude            4687 non-null   float64\n",
      " 3   Est Dia in KM(min)            4687 non-null   float64\n",
      " 4   Est Dia in KM(max)            4687 non-null   float64\n",
      " 5   Est Dia in M(min)             4687 non-null   float64\n",
      " 6   Est Dia in M(max)             4687 non-null   float64\n",
      " 7   Est Dia in Miles(min)         4687 non-null   float64\n",
      " 8   Est Dia in Miles(max)         4687 non-null   float64\n",
      " 9   Est Dia in Feet(min)          4687 non-null   float64\n",
      " 10  Est Dia in Feet(max)          4687 non-null   float64\n",
      " 11  Close Approach Date           4687 non-null   object \n",
      " 12  Epoch Date Close Approach     4687 non-null   int64  \n",
      " 13  Relative Velocity km per sec  4687 non-null   float64\n",
      " 14  Relative Velocity km per hr   4687 non-null   float64\n",
      " 15  Miles per hour                4687 non-null   float64\n",
      " 16  Miss Dist.(Astronomical)      4687 non-null   float64\n",
      " 17  Miss Dist.(lunar)             4687 non-null   float64\n",
      " 18  Miss Dist.(kilometers)        4687 non-null   float64\n",
      " 19  Miss Dist.(miles)             4687 non-null   float64\n",
      " 20  Orbiting Body                 4687 non-null   object \n",
      " 21  Orbit ID                      4687 non-null   int64  \n",
      " 22  Orbit Determination Date      4687 non-null   object \n",
      " 23  Orbit Uncertainity            4687 non-null   int64  \n",
      " 24  Minimum Orbit Intersection    4687 non-null   float64\n",
      " 25  Jupiter Tisserand Invariant   4687 non-null   float64\n",
      " 26  Epoch Osculation              4687 non-null   float64\n",
      " 27  Eccentricity                  4687 non-null   float64\n",
      " 28  Semi Major Axis               4687 non-null   float64\n",
      " 29  Inclination                   4687 non-null   float64\n",
      " 30  Asc Node Longitude            4687 non-null   float64\n",
      " 31  Orbital Period                4687 non-null   float64\n",
      " 32  Perihelion Distance           4687 non-null   float64\n",
      " 33  Perihelion Arg                4687 non-null   float64\n",
      " 34  Aphelion Dist                 4687 non-null   float64\n",
      " 35  Perihelion Time               4687 non-null   float64\n",
      " 36  Mean Anomaly                  4687 non-null   float64\n",
      " 37  Mean Motion                   4687 non-null   float64\n",
      " 38  Equinox                       4687 non-null   object \n",
      " 39  Hazardous                     4687 non-null   bool   \n",
      "dtypes: bool(1), float64(30), int64(5), object(4)\n",
      "memory usage: 1.3+ MB\n"
     ]
    }
   ],
   "source": [
    "data.info()"
   ]
  },
  {
   "cell_type": "code",
   "execution_count": 155,
   "metadata": {},
   "outputs": [
    {
     "data": {
      "text/plain": [
       "Neo Reference ID                0.0\n",
       "Name                            0.0\n",
       "Orbit Determination Date        0.0\n",
       "Orbit Uncertainity              0.0\n",
       "Minimum Orbit Intersection      0.0\n",
       "Jupiter Tisserand Invariant     0.0\n",
       "Epoch Osculation                0.0\n",
       "Eccentricity                    0.0\n",
       "Semi Major Axis                 0.0\n",
       "Inclination                     0.0\n",
       "Asc Node Longitude              0.0\n",
       "Orbital Period                  0.0\n",
       "Perihelion Distance             0.0\n",
       "Perihelion Arg                  0.0\n",
       "Aphelion Dist                   0.0\n",
       "Perihelion Time                 0.0\n",
       "Mean Anomaly                    0.0\n",
       "Mean Motion                     0.0\n",
       "Equinox                         0.0\n",
       "Orbit ID                        0.0\n",
       "Orbiting Body                   0.0\n",
       "Miss Dist.(miles)               0.0\n",
       "Est Dia in Feet(min)            0.0\n",
       "Absolute Magnitude              0.0\n",
       "Est Dia in KM(min)              0.0\n",
       "Est Dia in KM(max)              0.0\n",
       "Est Dia in M(min)               0.0\n",
       "Est Dia in M(max)               0.0\n",
       "Est Dia in Miles(min)           0.0\n",
       "Est Dia in Miles(max)           0.0\n",
       "Est Dia in Feet(max)            0.0\n",
       "Miss Dist.(kilometers)          0.0\n",
       "Close Approach Date             0.0\n",
       "Epoch Date Close Approach       0.0\n",
       "Relative Velocity km per sec    0.0\n",
       "Relative Velocity km per hr     0.0\n",
       "Miles per hour                  0.0\n",
       "Miss Dist.(Astronomical)        0.0\n",
       "Miss Dist.(lunar)               0.0\n",
       "Hazardous                       0.0\n",
       "dtype: float64"
      ]
     },
     "execution_count": 155,
     "metadata": {},
     "output_type": "execute_result"
    }
   ],
   "source": [
    "# check missing value\n",
    "(data.isnull().sum()*100/len(data)).sort_values(ascending=False)"
   ]
  },
  {
   "cell_type": "code",
   "execution_count": 156,
   "metadata": {},
   "outputs": [
    {
     "data": {
      "text/plain": [
       "0"
      ]
     },
     "execution_count": 156,
     "metadata": {},
     "output_type": "execute_result"
    }
   ],
   "source": [
    "# calculate missing value\n",
    "data.isna().sum().sum()"
   ]
  },
  {
   "cell_type": "code",
   "execution_count": 157,
   "metadata": {},
   "outputs": [
    {
     "data": {
      "text/plain": [
       "Neo Reference ID                3692\n",
       "Name                            3692\n",
       "Absolute Magnitude               269\n",
       "Est Dia in KM(min)               269\n",
       "Est Dia in KM(max)               269\n",
       "Est Dia in M(min)                269\n",
       "Est Dia in M(max)                269\n",
       "Est Dia in Miles(min)            269\n",
       "Est Dia in Miles(max)            269\n",
       "Est Dia in Feet(min)             269\n",
       "Est Dia in Feet(max)             269\n",
       "Close Approach Date              777\n",
       "Epoch Date Close Approach        777\n",
       "Relative Velocity km per sec    4687\n",
       "Relative Velocity km per hr     4687\n",
       "Miles per hour                  4687\n",
       "Miss Dist.(Astronomical)        4673\n",
       "Miss Dist.(lunar)               4660\n",
       "Miss Dist.(kilometers)          4661\n",
       "Miss Dist.(miles)               4660\n",
       "Orbiting Body                      1\n",
       "Orbit ID                         188\n",
       "Orbit Determination Date        2680\n",
       "Orbit Uncertainity                10\n",
       "Minimum Orbit Intersection      3678\n",
       "Jupiter Tisserand Invariant     2495\n",
       "Epoch Osculation                 429\n",
       "Eccentricity                    3692\n",
       "Semi Major Axis                 3692\n",
       "Inclination                     3692\n",
       "Asc Node Longitude              3692\n",
       "Orbital Period                  3692\n",
       "Perihelion Distance             3692\n",
       "Perihelion Arg                  3692\n",
       "Aphelion Dist                   3692\n",
       "Perihelion Time                 3692\n",
       "Mean Anomaly                    3692\n",
       "Mean Motion                     3692\n",
       "Equinox                            1\n",
       "Hazardous                          2\n",
       "dtype: int64"
      ]
     },
     "execution_count": 157,
     "metadata": {},
     "output_type": "execute_result"
    }
   ],
   "source": [
    "# show unique value\n",
    "data.nunique()"
   ]
  },
  {
   "cell_type": "code",
   "execution_count": 158,
   "metadata": {},
   "outputs": [
    {
     "data": {
      "text/plain": [
       "(4687, 30)"
      ]
     },
     "execution_count": 158,
     "metadata": {},
     "output_type": "execute_result"
    }
   ],
   "source": [
    "# drop the mentioned variables from the dataset\n",
    "df = data.drop(['Orbiting Body','Equinox','Neo Reference ID', 'Name','Close Approach Date','Epoch Date Close Approach','Orbit ID','Orbit Determination Date','Epoch Osculation','Perihelion Time'], axis = 1)\n",
    "df.shape"
   ]
  },
  {
   "cell_type": "code",
   "execution_count": 159,
   "metadata": {},
   "outputs": [
    {
     "name": "stdout",
     "output_type": "stream",
     "text": [
      "4687\n"
     ]
    },
    {
     "data": {
      "text/html": [
       "<div>\n",
       "<style scoped>\n",
       "    .dataframe tbody tr th:only-of-type {\n",
       "        vertical-align: middle;\n",
       "    }\n",
       "\n",
       "    .dataframe tbody tr th {\n",
       "        vertical-align: top;\n",
       "    }\n",
       "\n",
       "    .dataframe thead th {\n",
       "        text-align: right;\n",
       "    }\n",
       "</style>\n",
       "<table border=\"1\" class=\"dataframe\">\n",
       "  <thead>\n",
       "    <tr style=\"text-align: right;\">\n",
       "      <th></th>\n",
       "      <th>Neo Reference ID</th>\n",
       "      <th>Name</th>\n",
       "      <th>Absolute Magnitude</th>\n",
       "      <th>Est Dia in KM(min)</th>\n",
       "      <th>Est Dia in KM(max)</th>\n",
       "      <th>Est Dia in M(min)</th>\n",
       "      <th>Est Dia in M(max)</th>\n",
       "      <th>Est Dia in Miles(min)</th>\n",
       "      <th>Est Dia in Miles(max)</th>\n",
       "      <th>Est Dia in Feet(min)</th>\n",
       "      <th>...</th>\n",
       "      <th>Inclination</th>\n",
       "      <th>Asc Node Longitude</th>\n",
       "      <th>Orbital Period</th>\n",
       "      <th>Perihelion Distance</th>\n",
       "      <th>Perihelion Arg</th>\n",
       "      <th>Aphelion Dist</th>\n",
       "      <th>Perihelion Time</th>\n",
       "      <th>Mean Anomaly</th>\n",
       "      <th>Mean Motion</th>\n",
       "      <th>Equinox</th>\n",
       "    </tr>\n",
       "    <tr>\n",
       "      <th>Hazardous</th>\n",
       "      <th></th>\n",
       "      <th></th>\n",
       "      <th></th>\n",
       "      <th></th>\n",
       "      <th></th>\n",
       "      <th></th>\n",
       "      <th></th>\n",
       "      <th></th>\n",
       "      <th></th>\n",
       "      <th></th>\n",
       "      <th></th>\n",
       "      <th></th>\n",
       "      <th></th>\n",
       "      <th></th>\n",
       "      <th></th>\n",
       "      <th></th>\n",
       "      <th></th>\n",
       "      <th></th>\n",
       "      <th></th>\n",
       "      <th></th>\n",
       "      <th></th>\n",
       "    </tr>\n",
       "  </thead>\n",
       "  <tbody>\n",
       "    <tr>\n",
       "      <th>False</th>\n",
       "      <td>3932</td>\n",
       "      <td>3932</td>\n",
       "      <td>3932</td>\n",
       "      <td>3932</td>\n",
       "      <td>3932</td>\n",
       "      <td>3932</td>\n",
       "      <td>3932</td>\n",
       "      <td>3932</td>\n",
       "      <td>3932</td>\n",
       "      <td>3932</td>\n",
       "      <td>...</td>\n",
       "      <td>3932</td>\n",
       "      <td>3932</td>\n",
       "      <td>3932</td>\n",
       "      <td>3932</td>\n",
       "      <td>3932</td>\n",
       "      <td>3932</td>\n",
       "      <td>3932</td>\n",
       "      <td>3932</td>\n",
       "      <td>3932</td>\n",
       "      <td>3932</td>\n",
       "    </tr>\n",
       "    <tr>\n",
       "      <th>True</th>\n",
       "      <td>755</td>\n",
       "      <td>755</td>\n",
       "      <td>755</td>\n",
       "      <td>755</td>\n",
       "      <td>755</td>\n",
       "      <td>755</td>\n",
       "      <td>755</td>\n",
       "      <td>755</td>\n",
       "      <td>755</td>\n",
       "      <td>755</td>\n",
       "      <td>...</td>\n",
       "      <td>755</td>\n",
       "      <td>755</td>\n",
       "      <td>755</td>\n",
       "      <td>755</td>\n",
       "      <td>755</td>\n",
       "      <td>755</td>\n",
       "      <td>755</td>\n",
       "      <td>755</td>\n",
       "      <td>755</td>\n",
       "      <td>755</td>\n",
       "    </tr>\n",
       "  </tbody>\n",
       "</table>\n",
       "<p>2 rows × 39 columns</p>\n",
       "</div>"
      ],
      "text/plain": [
       "           Neo Reference ID  Name  Absolute Magnitude  Est Dia in KM(min)  \\\n",
       "Hazardous                                                                   \n",
       "False                  3932  3932                3932                3932   \n",
       "True                    755   755                 755                 755   \n",
       "\n",
       "           Est Dia in KM(max)  Est Dia in M(min)  Est Dia in M(max)  \\\n",
       "Hazardous                                                             \n",
       "False                    3932               3932               3932   \n",
       "True                      755                755                755   \n",
       "\n",
       "           Est Dia in Miles(min)  Est Dia in Miles(max)  Est Dia in Feet(min)  \\\n",
       "Hazardous                                                                       \n",
       "False                       3932                   3932                  3932   \n",
       "True                         755                    755                   755   \n",
       "\n",
       "           ...  Inclination  Asc Node Longitude  Orbital Period  \\\n",
       "Hazardous  ...                                                    \n",
       "False      ...         3932                3932            3932   \n",
       "True       ...          755                 755             755   \n",
       "\n",
       "           Perihelion Distance  Perihelion Arg  Aphelion Dist  \\\n",
       "Hazardous                                                       \n",
       "False                     3932            3932           3932   \n",
       "True                       755             755            755   \n",
       "\n",
       "           Perihelion Time  Mean Anomaly  Mean Motion  Equinox  \n",
       "Hazardous                                                       \n",
       "False                 3932          3932         3932     3932  \n",
       "True                   755           755          755      755  \n",
       "\n",
       "[2 rows x 39 columns]"
      ]
     },
     "execution_count": 159,
     "metadata": {},
     "output_type": "execute_result"
    }
   ],
   "source": [
    "# balancing data 755 each class\n",
    "# Experiment with split dataset.\n",
    "\n",
    "# df_true = df[df.Hazardous == True]\n",
    "# df_false = df[df.Hazardous == False]\n",
    "# df = df_true.append(df_false[:755])\n",
    "# df.Hazardous.value_counts()\n",
    "\n",
    "# FINAL Result : Random Forest\n",
    "# Precission : 0.859108818675778\n",
    "# Recall     : 0.8520971302428256\n",
    "# F1 Score   : 0.8515593883580889\n",
    "\n",
    "# SVM\n",
    "# Precission : 0.621653727110819\n",
    "# Recall     : 0.5695364238410596\n",
    "# F1 Score   : 0.5108659321375767\n",
    "\n",
    "# Naive Baiyes\n",
    "# Precission : 0.6088581761802602\n",
    "# Recall     : 0.6070640176600441\n",
    "# F1 Score   : 0.604072943207535\n",
    "\n",
    "# Trying using Library imblearn \n",
    "# df.groupby('Hazardous').count()\n",
    "lenData = df['Hazardous'].count()\n",
    "print(lenData)\n",
    "data.groupby('Hazardous').count()\n"
   ]
  },
  {
   "cell_type": "code",
   "execution_count": 160,
   "metadata": {},
   "outputs": [
    {
     "name": "stdout",
     "output_type": "stream",
     "text": [
      "0.16108384894388736\n"
     ]
    }
   ],
   "source": [
    "true_class = 755/lenData\n",
    "print(true_class)"
   ]
  },
  {
   "cell_type": "code",
   "execution_count": 161,
   "metadata": {},
   "outputs": [],
   "source": [
    "x = df.drop(['Hazardous'],axis=1)\n",
    "y = df['Hazardous']\n",
    "\n",
    "from imblearn.over_sampling import SMOTE\n",
    "x_resampled,y_resampled = SMOTE().fit_resample(x,y)"
   ]
  },
  {
   "cell_type": "code",
   "execution_count": 162,
   "metadata": {},
   "outputs": [
    {
     "data": {
      "text/html": [
       "<div>\n",
       "<style scoped>\n",
       "    .dataframe tbody tr th:only-of-type {\n",
       "        vertical-align: middle;\n",
       "    }\n",
       "\n",
       "    .dataframe tbody tr th {\n",
       "        vertical-align: top;\n",
       "    }\n",
       "\n",
       "    .dataframe thead th {\n",
       "        text-align: right;\n",
       "    }\n",
       "</style>\n",
       "<table border=\"1\" class=\"dataframe\">\n",
       "  <thead>\n",
       "    <tr style=\"text-align: right;\">\n",
       "      <th></th>\n",
       "      <th>Absolute Magnitude</th>\n",
       "      <th>Est Dia in KM(min)</th>\n",
       "      <th>Est Dia in KM(max)</th>\n",
       "      <th>Est Dia in M(min)</th>\n",
       "      <th>Est Dia in M(max)</th>\n",
       "      <th>Est Dia in Miles(min)</th>\n",
       "      <th>Est Dia in Miles(max)</th>\n",
       "      <th>Est Dia in Feet(min)</th>\n",
       "      <th>Est Dia in Feet(max)</th>\n",
       "      <th>Relative Velocity km per sec</th>\n",
       "      <th>...</th>\n",
       "      <th>Semi Major Axis</th>\n",
       "      <th>Inclination</th>\n",
       "      <th>Asc Node Longitude</th>\n",
       "      <th>Orbital Period</th>\n",
       "      <th>Perihelion Distance</th>\n",
       "      <th>Perihelion Arg</th>\n",
       "      <th>Aphelion Dist</th>\n",
       "      <th>Mean Anomaly</th>\n",
       "      <th>Mean Motion</th>\n",
       "      <th>Hazardous</th>\n",
       "    </tr>\n",
       "  </thead>\n",
       "  <tbody>\n",
       "    <tr>\n",
       "      <th>0</th>\n",
       "      <td>21.600000</td>\n",
       "      <td>0.127220</td>\n",
       "      <td>0.284472</td>\n",
       "      <td>127.219879</td>\n",
       "      <td>284.472297</td>\n",
       "      <td>0.079051</td>\n",
       "      <td>0.176763</td>\n",
       "      <td>417.388066</td>\n",
       "      <td>933.308089</td>\n",
       "      <td>6.115834</td>\n",
       "      <td>...</td>\n",
       "      <td>1.407011</td>\n",
       "      <td>6.025981</td>\n",
       "      <td>314.373913</td>\n",
       "      <td>609.599786</td>\n",
       "      <td>0.808259</td>\n",
       "      <td>57.257470</td>\n",
       "      <td>2.005764</td>\n",
       "      <td>264.837533</td>\n",
       "      <td>0.590551</td>\n",
       "      <td>True</td>\n",
       "    </tr>\n",
       "    <tr>\n",
       "      <th>1</th>\n",
       "      <td>21.300000</td>\n",
       "      <td>0.146068</td>\n",
       "      <td>0.326618</td>\n",
       "      <td>146.067964</td>\n",
       "      <td>326.617897</td>\n",
       "      <td>0.090762</td>\n",
       "      <td>0.202951</td>\n",
       "      <td>479.225620</td>\n",
       "      <td>1071.581063</td>\n",
       "      <td>18.113985</td>\n",
       "      <td>...</td>\n",
       "      <td>1.107776</td>\n",
       "      <td>28.412996</td>\n",
       "      <td>136.717242</td>\n",
       "      <td>425.869294</td>\n",
       "      <td>0.718200</td>\n",
       "      <td>313.091975</td>\n",
       "      <td>1.497352</td>\n",
       "      <td>173.741112</td>\n",
       "      <td>0.845330</td>\n",
       "      <td>False</td>\n",
       "    </tr>\n",
       "    <tr>\n",
       "      <th>2</th>\n",
       "      <td>20.300000</td>\n",
       "      <td>0.231502</td>\n",
       "      <td>0.517654</td>\n",
       "      <td>231.502122</td>\n",
       "      <td>517.654482</td>\n",
       "      <td>0.143849</td>\n",
       "      <td>0.321655</td>\n",
       "      <td>759.521423</td>\n",
       "      <td>1698.341531</td>\n",
       "      <td>7.590711</td>\n",
       "      <td>...</td>\n",
       "      <td>1.458824</td>\n",
       "      <td>4.237961</td>\n",
       "      <td>259.475979</td>\n",
       "      <td>643.580228</td>\n",
       "      <td>0.950791</td>\n",
       "      <td>248.415038</td>\n",
       "      <td>1.966857</td>\n",
       "      <td>292.893654</td>\n",
       "      <td>0.559371</td>\n",
       "      <td>True</td>\n",
       "    </tr>\n",
       "    <tr>\n",
       "      <th>3</th>\n",
       "      <td>27.400000</td>\n",
       "      <td>0.008801</td>\n",
       "      <td>0.019681</td>\n",
       "      <td>8.801465</td>\n",
       "      <td>19.680675</td>\n",
       "      <td>0.005469</td>\n",
       "      <td>0.012229</td>\n",
       "      <td>28.876199</td>\n",
       "      <td>64.569144</td>\n",
       "      <td>11.173874</td>\n",
       "      <td>...</td>\n",
       "      <td>1.255903</td>\n",
       "      <td>7.905894</td>\n",
       "      <td>57.173266</td>\n",
       "      <td>514.082140</td>\n",
       "      <td>0.983902</td>\n",
       "      <td>18.707701</td>\n",
       "      <td>1.527904</td>\n",
       "      <td>68.741007</td>\n",
       "      <td>0.700277</td>\n",
       "      <td>False</td>\n",
       "    </tr>\n",
       "    <tr>\n",
       "      <th>4</th>\n",
       "      <td>21.600000</td>\n",
       "      <td>0.127220</td>\n",
       "      <td>0.284472</td>\n",
       "      <td>127.219879</td>\n",
       "      <td>284.472297</td>\n",
       "      <td>0.079051</td>\n",
       "      <td>0.176763</td>\n",
       "      <td>417.388066</td>\n",
       "      <td>933.308089</td>\n",
       "      <td>9.840831</td>\n",
       "      <td>...</td>\n",
       "      <td>1.225615</td>\n",
       "      <td>16.793382</td>\n",
       "      <td>84.629307</td>\n",
       "      <td>495.597821</td>\n",
       "      <td>0.967687</td>\n",
       "      <td>158.263596</td>\n",
       "      <td>1.483543</td>\n",
       "      <td>135.142133</td>\n",
       "      <td>0.726395</td>\n",
       "      <td>True</td>\n",
       "    </tr>\n",
       "    <tr>\n",
       "      <th>...</th>\n",
       "      <td>...</td>\n",
       "      <td>...</td>\n",
       "      <td>...</td>\n",
       "      <td>...</td>\n",
       "      <td>...</td>\n",
       "      <td>...</td>\n",
       "      <td>...</td>\n",
       "      <td>...</td>\n",
       "      <td>...</td>\n",
       "      <td>...</td>\n",
       "      <td>...</td>\n",
       "      <td>...</td>\n",
       "      <td>...</td>\n",
       "      <td>...</td>\n",
       "      <td>...</td>\n",
       "      <td>...</td>\n",
       "      <td>...</td>\n",
       "      <td>...</td>\n",
       "      <td>...</td>\n",
       "      <td>...</td>\n",
       "      <td>...</td>\n",
       "    </tr>\n",
       "    <tr>\n",
       "      <th>7859</th>\n",
       "      <td>20.497805</td>\n",
       "      <td>0.238498</td>\n",
       "      <td>0.533297</td>\n",
       "      <td>238.497617</td>\n",
       "      <td>533.296884</td>\n",
       "      <td>0.148196</td>\n",
       "      <td>0.331375</td>\n",
       "      <td>782.472522</td>\n",
       "      <td>1749.661750</td>\n",
       "      <td>19.042999</td>\n",
       "      <td>...</td>\n",
       "      <td>1.029560</td>\n",
       "      <td>31.951221</td>\n",
       "      <td>103.846396</td>\n",
       "      <td>382.865053</td>\n",
       "      <td>0.880582</td>\n",
       "      <td>258.480569</td>\n",
       "      <td>1.178538</td>\n",
       "      <td>333.590177</td>\n",
       "      <td>0.955279</td>\n",
       "      <td>True</td>\n",
       "    </tr>\n",
       "    <tr>\n",
       "      <th>7860</th>\n",
       "      <td>20.155365</td>\n",
       "      <td>0.266679</td>\n",
       "      <td>0.596311</td>\n",
       "      <td>266.678603</td>\n",
       "      <td>596.311483</td>\n",
       "      <td>0.165706</td>\n",
       "      <td>0.370531</td>\n",
       "      <td>874.929826</td>\n",
       "      <td>1956.402567</td>\n",
       "      <td>19.030776</td>\n",
       "      <td>...</td>\n",
       "      <td>1.513865</td>\n",
       "      <td>5.817373</td>\n",
       "      <td>181.088109</td>\n",
       "      <td>682.550972</td>\n",
       "      <td>0.649313</td>\n",
       "      <td>172.019376</td>\n",
       "      <td>2.378418</td>\n",
       "      <td>137.936029</td>\n",
       "      <td>0.537826</td>\n",
       "      <td>True</td>\n",
       "    </tr>\n",
       "    <tr>\n",
       "      <th>7861</th>\n",
       "      <td>20.262011</td>\n",
       "      <td>0.240680</td>\n",
       "      <td>0.538176</td>\n",
       "      <td>240.679755</td>\n",
       "      <td>538.176293</td>\n",
       "      <td>0.149551</td>\n",
       "      <td>0.334407</td>\n",
       "      <td>789.631767</td>\n",
       "      <td>1765.670308</td>\n",
       "      <td>12.854953</td>\n",
       "      <td>...</td>\n",
       "      <td>1.877492</td>\n",
       "      <td>11.698439</td>\n",
       "      <td>158.405408</td>\n",
       "      <td>960.649692</td>\n",
       "      <td>0.893689</td>\n",
       "      <td>255.337357</td>\n",
       "      <td>2.861295</td>\n",
       "      <td>331.269558</td>\n",
       "      <td>0.428715</td>\n",
       "      <td>True</td>\n",
       "    </tr>\n",
       "    <tr>\n",
       "      <th>7862</th>\n",
       "      <td>20.238425</td>\n",
       "      <td>0.255729</td>\n",
       "      <td>0.571827</td>\n",
       "      <td>255.728886</td>\n",
       "      <td>571.827174</td>\n",
       "      <td>0.158903</td>\n",
       "      <td>0.355317</td>\n",
       "      <td>839.005560</td>\n",
       "      <td>1876.073465</td>\n",
       "      <td>32.696902</td>\n",
       "      <td>...</td>\n",
       "      <td>1.813508</td>\n",
       "      <td>9.458386</td>\n",
       "      <td>19.556965</td>\n",
       "      <td>911.124038</td>\n",
       "      <td>0.629947</td>\n",
       "      <td>229.096418</td>\n",
       "      <td>2.997070</td>\n",
       "      <td>62.798710</td>\n",
       "      <td>0.466703</td>\n",
       "      <td>True</td>\n",
       "    </tr>\n",
       "    <tr>\n",
       "      <th>7863</th>\n",
       "      <td>20.255964</td>\n",
       "      <td>0.238425</td>\n",
       "      <td>0.533134</td>\n",
       "      <td>238.424649</td>\n",
       "      <td>533.133723</td>\n",
       "      <td>0.148150</td>\n",
       "      <td>0.331274</td>\n",
       "      <td>782.233126</td>\n",
       "      <td>1749.126445</td>\n",
       "      <td>24.385590</td>\n",
       "      <td>...</td>\n",
       "      <td>1.510613</td>\n",
       "      <td>11.463232</td>\n",
       "      <td>41.359450</td>\n",
       "      <td>704.624294</td>\n",
       "      <td>0.544526</td>\n",
       "      <td>144.908944</td>\n",
       "      <td>2.476699</td>\n",
       "      <td>215.281995</td>\n",
       "      <td>0.663977</td>\n",
       "      <td>True</td>\n",
       "    </tr>\n",
       "  </tbody>\n",
       "</table>\n",
       "<p>7864 rows × 30 columns</p>\n",
       "</div>"
      ],
      "text/plain": [
       "      Absolute Magnitude  Est Dia in KM(min)  Est Dia in KM(max)  \\\n",
       "0              21.600000            0.127220            0.284472   \n",
       "1              21.300000            0.146068            0.326618   \n",
       "2              20.300000            0.231502            0.517654   \n",
       "3              27.400000            0.008801            0.019681   \n",
       "4              21.600000            0.127220            0.284472   \n",
       "...                  ...                 ...                 ...   \n",
       "7859           20.497805            0.238498            0.533297   \n",
       "7860           20.155365            0.266679            0.596311   \n",
       "7861           20.262011            0.240680            0.538176   \n",
       "7862           20.238425            0.255729            0.571827   \n",
       "7863           20.255964            0.238425            0.533134   \n",
       "\n",
       "      Est Dia in M(min)  Est Dia in M(max)  Est Dia in Miles(min)  \\\n",
       "0            127.219879         284.472297               0.079051   \n",
       "1            146.067964         326.617897               0.090762   \n",
       "2            231.502122         517.654482               0.143849   \n",
       "3              8.801465          19.680675               0.005469   \n",
       "4            127.219879         284.472297               0.079051   \n",
       "...                 ...                ...                    ...   \n",
       "7859         238.497617         533.296884               0.148196   \n",
       "7860         266.678603         596.311483               0.165706   \n",
       "7861         240.679755         538.176293               0.149551   \n",
       "7862         255.728886         571.827174               0.158903   \n",
       "7863         238.424649         533.133723               0.148150   \n",
       "\n",
       "      Est Dia in Miles(max)  Est Dia in Feet(min)  Est Dia in Feet(max)  \\\n",
       "0                  0.176763            417.388066            933.308089   \n",
       "1                  0.202951            479.225620           1071.581063   \n",
       "2                  0.321655            759.521423           1698.341531   \n",
       "3                  0.012229             28.876199             64.569144   \n",
       "4                  0.176763            417.388066            933.308089   \n",
       "...                     ...                   ...                   ...   \n",
       "7859               0.331375            782.472522           1749.661750   \n",
       "7860               0.370531            874.929826           1956.402567   \n",
       "7861               0.334407            789.631767           1765.670308   \n",
       "7862               0.355317            839.005560           1876.073465   \n",
       "7863               0.331274            782.233126           1749.126445   \n",
       "\n",
       "      Relative Velocity km per sec  ...  Semi Major Axis  Inclination  \\\n",
       "0                         6.115834  ...         1.407011     6.025981   \n",
       "1                        18.113985  ...         1.107776    28.412996   \n",
       "2                         7.590711  ...         1.458824     4.237961   \n",
       "3                        11.173874  ...         1.255903     7.905894   \n",
       "4                         9.840831  ...         1.225615    16.793382   \n",
       "...                            ...  ...              ...          ...   \n",
       "7859                     19.042999  ...         1.029560    31.951221   \n",
       "7860                     19.030776  ...         1.513865     5.817373   \n",
       "7861                     12.854953  ...         1.877492    11.698439   \n",
       "7862                     32.696902  ...         1.813508     9.458386   \n",
       "7863                     24.385590  ...         1.510613    11.463232   \n",
       "\n",
       "      Asc Node Longitude  Orbital Period  Perihelion Distance  Perihelion Arg  \\\n",
       "0             314.373913      609.599786             0.808259       57.257470   \n",
       "1             136.717242      425.869294             0.718200      313.091975   \n",
       "2             259.475979      643.580228             0.950791      248.415038   \n",
       "3              57.173266      514.082140             0.983902       18.707701   \n",
       "4              84.629307      495.597821             0.967687      158.263596   \n",
       "...                  ...             ...                  ...             ...   \n",
       "7859          103.846396      382.865053             0.880582      258.480569   \n",
       "7860          181.088109      682.550972             0.649313      172.019376   \n",
       "7861          158.405408      960.649692             0.893689      255.337357   \n",
       "7862           19.556965      911.124038             0.629947      229.096418   \n",
       "7863           41.359450      704.624294             0.544526      144.908944   \n",
       "\n",
       "      Aphelion Dist  Mean Anomaly  Mean Motion  Hazardous  \n",
       "0          2.005764    264.837533     0.590551       True  \n",
       "1          1.497352    173.741112     0.845330      False  \n",
       "2          1.966857    292.893654     0.559371       True  \n",
       "3          1.527904     68.741007     0.700277      False  \n",
       "4          1.483543    135.142133     0.726395       True  \n",
       "...             ...           ...          ...        ...  \n",
       "7859       1.178538    333.590177     0.955279       True  \n",
       "7860       2.378418    137.936029     0.537826       True  \n",
       "7861       2.861295    331.269558     0.428715       True  \n",
       "7862       2.997070     62.798710     0.466703       True  \n",
       "7863       2.476699    215.281995     0.663977       True  \n",
       "\n",
       "[7864 rows x 30 columns]"
      ]
     },
     "execution_count": 162,
     "metadata": {},
     "output_type": "execute_result"
    }
   ],
   "source": [
    "y_resampled.value_counts()\n",
    "\n",
    "df = pd.concat([x_resampled,y_resampled],axis=1)\n",
    "df"
   ]
  },
  {
   "cell_type": "code",
   "execution_count": 163,
   "metadata": {},
   "outputs": [
    {
     "data": {
      "text/html": [
       "<div>\n",
       "<style scoped>\n",
       "    .dataframe tbody tr th:only-of-type {\n",
       "        vertical-align: middle;\n",
       "    }\n",
       "\n",
       "    .dataframe tbody tr th {\n",
       "        vertical-align: top;\n",
       "    }\n",
       "\n",
       "    .dataframe thead th {\n",
       "        text-align: right;\n",
       "    }\n",
       "</style>\n",
       "<table border=\"1\" class=\"dataframe\">\n",
       "  <thead>\n",
       "    <tr style=\"text-align: right;\">\n",
       "      <th></th>\n",
       "      <th>Absolute Magnitude</th>\n",
       "      <th>Est Dia in KM(min)</th>\n",
       "      <th>Est Dia in KM(max)</th>\n",
       "      <th>Est Dia in M(min)</th>\n",
       "      <th>Est Dia in M(max)</th>\n",
       "      <th>Est Dia in Miles(min)</th>\n",
       "      <th>Est Dia in Miles(max)</th>\n",
       "      <th>Est Dia in Feet(min)</th>\n",
       "      <th>Est Dia in Feet(max)</th>\n",
       "      <th>Relative Velocity km per sec</th>\n",
       "      <th>...</th>\n",
       "      <th>Eccentricity</th>\n",
       "      <th>Semi Major Axis</th>\n",
       "      <th>Inclination</th>\n",
       "      <th>Asc Node Longitude</th>\n",
       "      <th>Orbital Period</th>\n",
       "      <th>Perihelion Distance</th>\n",
       "      <th>Perihelion Arg</th>\n",
       "      <th>Aphelion Dist</th>\n",
       "      <th>Mean Anomaly</th>\n",
       "      <th>Mean Motion</th>\n",
       "    </tr>\n",
       "    <tr>\n",
       "      <th>Hazardous</th>\n",
       "      <th></th>\n",
       "      <th></th>\n",
       "      <th></th>\n",
       "      <th></th>\n",
       "      <th></th>\n",
       "      <th></th>\n",
       "      <th></th>\n",
       "      <th></th>\n",
       "      <th></th>\n",
       "      <th></th>\n",
       "      <th></th>\n",
       "      <th></th>\n",
       "      <th></th>\n",
       "      <th></th>\n",
       "      <th></th>\n",
       "      <th></th>\n",
       "      <th></th>\n",
       "      <th></th>\n",
       "      <th></th>\n",
       "      <th></th>\n",
       "      <th></th>\n",
       "    </tr>\n",
       "  </thead>\n",
       "  <tbody>\n",
       "    <tr>\n",
       "      <th>False</th>\n",
       "      <td>3932</td>\n",
       "      <td>3932</td>\n",
       "      <td>3932</td>\n",
       "      <td>3932</td>\n",
       "      <td>3932</td>\n",
       "      <td>3932</td>\n",
       "      <td>3932</td>\n",
       "      <td>3932</td>\n",
       "      <td>3932</td>\n",
       "      <td>3932</td>\n",
       "      <td>...</td>\n",
       "      <td>3932</td>\n",
       "      <td>3932</td>\n",
       "      <td>3932</td>\n",
       "      <td>3932</td>\n",
       "      <td>3932</td>\n",
       "      <td>3932</td>\n",
       "      <td>3932</td>\n",
       "      <td>3932</td>\n",
       "      <td>3932</td>\n",
       "      <td>3932</td>\n",
       "    </tr>\n",
       "    <tr>\n",
       "      <th>True</th>\n",
       "      <td>3932</td>\n",
       "      <td>3932</td>\n",
       "      <td>3932</td>\n",
       "      <td>3932</td>\n",
       "      <td>3932</td>\n",
       "      <td>3932</td>\n",
       "      <td>3932</td>\n",
       "      <td>3932</td>\n",
       "      <td>3932</td>\n",
       "      <td>3932</td>\n",
       "      <td>...</td>\n",
       "      <td>3932</td>\n",
       "      <td>3932</td>\n",
       "      <td>3932</td>\n",
       "      <td>3932</td>\n",
       "      <td>3932</td>\n",
       "      <td>3932</td>\n",
       "      <td>3932</td>\n",
       "      <td>3932</td>\n",
       "      <td>3932</td>\n",
       "      <td>3932</td>\n",
       "    </tr>\n",
       "  </tbody>\n",
       "</table>\n",
       "<p>2 rows × 29 columns</p>\n",
       "</div>"
      ],
      "text/plain": [
       "           Absolute Magnitude  Est Dia in KM(min)  Est Dia in KM(max)  \\\n",
       "Hazardous                                                               \n",
       "False                    3932                3932                3932   \n",
       "True                     3932                3932                3932   \n",
       "\n",
       "           Est Dia in M(min)  Est Dia in M(max)  Est Dia in Miles(min)  \\\n",
       "Hazardous                                                                \n",
       "False                   3932               3932                   3932   \n",
       "True                    3932               3932                   3932   \n",
       "\n",
       "           Est Dia in Miles(max)  Est Dia in Feet(min)  Est Dia in Feet(max)  \\\n",
       "Hazardous                                                                      \n",
       "False                       3932                  3932                  3932   \n",
       "True                        3932                  3932                  3932   \n",
       "\n",
       "           Relative Velocity km per sec  ...  Eccentricity  Semi Major Axis  \\\n",
       "Hazardous                                ...                                  \n",
       "False                              3932  ...          3932             3932   \n",
       "True                               3932  ...          3932             3932   \n",
       "\n",
       "           Inclination  Asc Node Longitude  Orbital Period  \\\n",
       "Hazardous                                                    \n",
       "False             3932                3932            3932   \n",
       "True              3932                3932            3932   \n",
       "\n",
       "           Perihelion Distance  Perihelion Arg  Aphelion Dist  Mean Anomaly  \\\n",
       "Hazardous                                                                     \n",
       "False                     3932            3932           3932          3932   \n",
       "True                      3932            3932           3932          3932   \n",
       "\n",
       "           Mean Motion  \n",
       "Hazardous               \n",
       "False             3932  \n",
       "True              3932  \n",
       "\n",
       "[2 rows x 29 columns]"
      ]
     },
     "execution_count": 163,
     "metadata": {},
     "output_type": "execute_result"
    }
   ],
   "source": [
    "df.groupby('Hazardous').count()"
   ]
  },
  {
   "cell_type": "code",
   "execution_count": 164,
   "metadata": {},
   "outputs": [],
   "source": [
    "def normalize(df):\n",
    "    result = df.copy()\n",
    "    for feature_name in df.columns:\n",
    "        max_value = df[feature_name].max()\n",
    "        min_value = df[feature_name].min()\n",
    "        result[feature_name] = (df[feature_name] - min_value) / (max_value - min_value)\n",
    "    return result"
   ]
  },
  {
   "cell_type": "code",
   "execution_count": 165,
   "metadata": {},
   "outputs": [
    {
     "data": {
      "text/html": [
       "<div>\n",
       "<style scoped>\n",
       "    .dataframe tbody tr th:only-of-type {\n",
       "        vertical-align: middle;\n",
       "    }\n",
       "\n",
       "    .dataframe tbody tr th {\n",
       "        vertical-align: top;\n",
       "    }\n",
       "\n",
       "    .dataframe thead th {\n",
       "        text-align: right;\n",
       "    }\n",
       "</style>\n",
       "<table border=\"1\" class=\"dataframe\">\n",
       "  <thead>\n",
       "    <tr style=\"text-align: right;\">\n",
       "      <th></th>\n",
       "      <th>Absolute Magnitude</th>\n",
       "      <th>Est Dia in KM(min)</th>\n",
       "      <th>Est Dia in KM(max)</th>\n",
       "      <th>Est Dia in M(min)</th>\n",
       "      <th>Est Dia in M(max)</th>\n",
       "      <th>Est Dia in Miles(min)</th>\n",
       "      <th>Est Dia in Miles(max)</th>\n",
       "      <th>Est Dia in Feet(min)</th>\n",
       "      <th>Est Dia in Feet(max)</th>\n",
       "      <th>Relative Velocity km per sec</th>\n",
       "      <th>...</th>\n",
       "      <th>Eccentricity</th>\n",
       "      <th>Semi Major Axis</th>\n",
       "      <th>Inclination</th>\n",
       "      <th>Asc Node Longitude</th>\n",
       "      <th>Orbital Period</th>\n",
       "      <th>Perihelion Distance</th>\n",
       "      <th>Perihelion Arg</th>\n",
       "      <th>Aphelion Dist</th>\n",
       "      <th>Mean Anomaly</th>\n",
       "      <th>Mean Motion</th>\n",
       "    </tr>\n",
       "  </thead>\n",
       "  <tbody>\n",
       "    <tr>\n",
       "      <th>0</th>\n",
       "      <td>0.498567</td>\n",
       "      <td>0.008101</td>\n",
       "      <td>0.008101</td>\n",
       "      <td>0.008101</td>\n",
       "      <td>0.008101</td>\n",
       "      <td>0.008101</td>\n",
       "      <td>0.008101</td>\n",
       "      <td>0.008101</td>\n",
       "      <td>0.008101</td>\n",
       "      <td>0.130487</td>\n",
       "      <td>...</td>\n",
       "      <td>0.438763</td>\n",
       "      <td>0.177530</td>\n",
       "      <td>0.079736</td>\n",
       "      <td>0.873489</td>\n",
       "      <td>0.108378</td>\n",
       "      <td>0.596770</td>\n",
       "      <td>0.159035</td>\n",
       "      <td>0.146942</td>\n",
       "      <td>0.735825</td>\n",
       "      <td>0.258239</td>\n",
       "    </tr>\n",
       "    <tr>\n",
       "      <th>1</th>\n",
       "      <td>0.484241</td>\n",
       "      <td>0.009311</td>\n",
       "      <td>0.009311</td>\n",
       "      <td>0.009311</td>\n",
       "      <td>0.009311</td>\n",
       "      <td>0.009311</td>\n",
       "      <td>0.009311</td>\n",
       "      <td>0.009311</td>\n",
       "      <td>0.009311</td>\n",
       "      <td>0.401336</td>\n",
       "      <td>...</td>\n",
       "      <td>0.361224</td>\n",
       "      <td>0.110378</td>\n",
       "      <td>0.376677</td>\n",
       "      <td>0.379866</td>\n",
       "      <td>0.062396</td>\n",
       "      <td>0.522896</td>\n",
       "      <td>0.869714</td>\n",
       "      <td>0.084790</td>\n",
       "      <td>0.482720</td>\n",
       "      <td>0.388713</td>\n",
       "    </tr>\n",
       "    <tr>\n",
       "      <th>2</th>\n",
       "      <td>0.436485</td>\n",
       "      <td>0.014795</td>\n",
       "      <td>0.014795</td>\n",
       "      <td>0.014795</td>\n",
       "      <td>0.014795</td>\n",
       "      <td>0.014795</td>\n",
       "      <td>0.014795</td>\n",
       "      <td>0.014795</td>\n",
       "      <td>0.014795</td>\n",
       "      <td>0.163781</td>\n",
       "      <td>...</td>\n",
       "      <td>0.357628</td>\n",
       "      <td>0.189158</td>\n",
       "      <td>0.056020</td>\n",
       "      <td>0.720954</td>\n",
       "      <td>0.116882</td>\n",
       "      <td>0.713687</td>\n",
       "      <td>0.690049</td>\n",
       "      <td>0.142186</td>\n",
       "      <td>0.813777</td>\n",
       "      <td>0.242271</td>\n",
       "    </tr>\n",
       "    <tr>\n",
       "      <th>3</th>\n",
       "      <td>0.775549</td>\n",
       "      <td>0.000500</td>\n",
       "      <td>0.000500</td>\n",
       "      <td>0.000500</td>\n",
       "      <td>0.000500</td>\n",
       "      <td>0.000500</td>\n",
       "      <td>0.000500</td>\n",
       "      <td>0.000500</td>\n",
       "      <td>0.000500</td>\n",
       "      <td>0.244668</td>\n",
       "      <td>...</td>\n",
       "      <td>0.219426</td>\n",
       "      <td>0.143620</td>\n",
       "      <td>0.104671</td>\n",
       "      <td>0.158852</td>\n",
       "      <td>0.084473</td>\n",
       "      <td>0.740847</td>\n",
       "      <td>0.051949</td>\n",
       "      <td>0.088525</td>\n",
       "      <td>0.190984</td>\n",
       "      <td>0.314430</td>\n",
       "    </tr>\n",
       "    <tr>\n",
       "      <th>4</th>\n",
       "      <td>0.498567</td>\n",
       "      <td>0.008101</td>\n",
       "      <td>0.008101</td>\n",
       "      <td>0.008101</td>\n",
       "      <td>0.008101</td>\n",
       "      <td>0.008101</td>\n",
       "      <td>0.008101</td>\n",
       "      <td>0.008101</td>\n",
       "      <td>0.008101</td>\n",
       "      <td>0.214576</td>\n",
       "      <td>...</td>\n",
       "      <td>0.212992</td>\n",
       "      <td>0.136823</td>\n",
       "      <td>0.222555</td>\n",
       "      <td>0.235139</td>\n",
       "      <td>0.079847</td>\n",
       "      <td>0.727546</td>\n",
       "      <td>0.439619</td>\n",
       "      <td>0.083102</td>\n",
       "      <td>0.375475</td>\n",
       "      <td>0.327805</td>\n",
       "    </tr>\n",
       "  </tbody>\n",
       "</table>\n",
       "<p>5 rows × 29 columns</p>\n",
       "</div>"
      ],
      "text/plain": [
       "   Absolute Magnitude  Est Dia in KM(min)  Est Dia in KM(max)  \\\n",
       "0            0.498567            0.008101            0.008101   \n",
       "1            0.484241            0.009311            0.009311   \n",
       "2            0.436485            0.014795            0.014795   \n",
       "3            0.775549            0.000500            0.000500   \n",
       "4            0.498567            0.008101            0.008101   \n",
       "\n",
       "   Est Dia in M(min)  Est Dia in M(max)  Est Dia in Miles(min)  \\\n",
       "0           0.008101           0.008101               0.008101   \n",
       "1           0.009311           0.009311               0.009311   \n",
       "2           0.014795           0.014795               0.014795   \n",
       "3           0.000500           0.000500               0.000500   \n",
       "4           0.008101           0.008101               0.008101   \n",
       "\n",
       "   Est Dia in Miles(max)  Est Dia in Feet(min)  Est Dia in Feet(max)  \\\n",
       "0               0.008101              0.008101              0.008101   \n",
       "1               0.009311              0.009311              0.009311   \n",
       "2               0.014795              0.014795              0.014795   \n",
       "3               0.000500              0.000500              0.000500   \n",
       "4               0.008101              0.008101              0.008101   \n",
       "\n",
       "   Relative Velocity km per sec  ...  Eccentricity  Semi Major Axis  \\\n",
       "0                      0.130487  ...      0.438763         0.177530   \n",
       "1                      0.401336  ...      0.361224         0.110378   \n",
       "2                      0.163781  ...      0.357628         0.189158   \n",
       "3                      0.244668  ...      0.219426         0.143620   \n",
       "4                      0.214576  ...      0.212992         0.136823   \n",
       "\n",
       "   Inclination  Asc Node Longitude  Orbital Period  Perihelion Distance  \\\n",
       "0     0.079736            0.873489        0.108378             0.596770   \n",
       "1     0.376677            0.379866        0.062396             0.522896   \n",
       "2     0.056020            0.720954        0.116882             0.713687   \n",
       "3     0.104671            0.158852        0.084473             0.740847   \n",
       "4     0.222555            0.235139        0.079847             0.727546   \n",
       "\n",
       "   Perihelion Arg  Aphelion Dist  Mean Anomaly  Mean Motion  \n",
       "0        0.159035       0.146942      0.735825     0.258239  \n",
       "1        0.869714       0.084790      0.482720     0.388713  \n",
       "2        0.690049       0.142186      0.813777     0.242271  \n",
       "3        0.051949       0.088525      0.190984     0.314430  \n",
       "4        0.439619       0.083102      0.375475     0.327805  \n",
       "\n",
       "[5 rows x 29 columns]"
      ]
     },
     "execution_count": 165,
     "metadata": {},
     "output_type": "execute_result"
    }
   ],
   "source": [
    "y=df[\"Hazardous\"]\n",
    "x=df.drop([\"Hazardous\"],axis=1)\n",
    "df = normalize(x)\n",
    "df.head()"
   ]
  },
  {
   "cell_type": "code",
   "execution_count": 166,
   "metadata": {},
   "outputs": [
    {
     "data": {
      "text/plain": [
       "<AxesSubplot:>"
      ]
     },
     "execution_count": 166,
     "metadata": {},
     "output_type": "execute_result"
    },
    {
     "data": {
      "image/png": "[encoded data removed]",
      "text/plain": [
       "<Figure size 720x720 with 2 Axes>"
      ]
     },
     "metadata": {},
     "output_type": "display_data"
    }
   ],
   "source": [
    "# show data correlation \n",
    "df = pd.concat([df,y],axis=1)\n",
    "\n",
    "sns.set(style='darkgrid')\n",
    "plt.figure(figsize=(10, 10))\n",
    "sns.heatmap(df.corr())"
   ]
  },
  {
   "cell_type": "code",
   "execution_count": 167,
   "metadata": {},
   "outputs": [
    {
     "data": {
      "text/html": [
       "<div>\n",
       "<style scoped>\n",
       "    .dataframe tbody tr th:only-of-type {\n",
       "        vertical-align: middle;\n",
       "    }\n",
       "\n",
       "    .dataframe tbody tr th {\n",
       "        vertical-align: top;\n",
       "    }\n",
       "\n",
       "    .dataframe thead th {\n",
       "        text-align: right;\n",
       "    }\n",
       "</style>\n",
       "<table border=\"1\" class=\"dataframe\">\n",
       "  <thead>\n",
       "    <tr style=\"text-align: right;\">\n",
       "      <th></th>\n",
       "      <th>Absolute Magnitude</th>\n",
       "      <th>Est Dia in KM(min)</th>\n",
       "      <th>Est Dia in KM(max)</th>\n",
       "      <th>Est Dia in M(min)</th>\n",
       "      <th>Est Dia in M(max)</th>\n",
       "      <th>Est Dia in Miles(min)</th>\n",
       "      <th>Est Dia in Miles(max)</th>\n",
       "      <th>Est Dia in Feet(min)</th>\n",
       "      <th>Est Dia in Feet(max)</th>\n",
       "      <th>Relative Velocity km per sec</th>\n",
       "      <th>...</th>\n",
       "      <th>Semi Major Axis</th>\n",
       "      <th>Inclination</th>\n",
       "      <th>Asc Node Longitude</th>\n",
       "      <th>Orbital Period</th>\n",
       "      <th>Perihelion Distance</th>\n",
       "      <th>Perihelion Arg</th>\n",
       "      <th>Aphelion Dist</th>\n",
       "      <th>Mean Anomaly</th>\n",
       "      <th>Mean Motion</th>\n",
       "      <th>Hazardous</th>\n",
       "    </tr>\n",
       "  </thead>\n",
       "  <tbody>\n",
       "    <tr>\n",
       "      <th>0</th>\n",
       "      <td>0.498567</td>\n",
       "      <td>0.008101</td>\n",
       "      <td>0.008101</td>\n",
       "      <td>0.008101</td>\n",
       "      <td>0.008101</td>\n",
       "      <td>0.008101</td>\n",
       "      <td>0.008101</td>\n",
       "      <td>0.008101</td>\n",
       "      <td>0.008101</td>\n",
       "      <td>0.130487</td>\n",
       "      <td>...</td>\n",
       "      <td>0.177530</td>\n",
       "      <td>0.079736</td>\n",
       "      <td>0.873489</td>\n",
       "      <td>0.108378</td>\n",
       "      <td>0.596770</td>\n",
       "      <td>0.159035</td>\n",
       "      <td>0.146942</td>\n",
       "      <td>0.735825</td>\n",
       "      <td>0.258239</td>\n",
       "      <td>True</td>\n",
       "    </tr>\n",
       "    <tr>\n",
       "      <th>1</th>\n",
       "      <td>0.484241</td>\n",
       "      <td>0.009311</td>\n",
       "      <td>0.009311</td>\n",
       "      <td>0.009311</td>\n",
       "      <td>0.009311</td>\n",
       "      <td>0.009311</td>\n",
       "      <td>0.009311</td>\n",
       "      <td>0.009311</td>\n",
       "      <td>0.009311</td>\n",
       "      <td>0.401336</td>\n",
       "      <td>...</td>\n",
       "      <td>0.110378</td>\n",
       "      <td>0.376677</td>\n",
       "      <td>0.379866</td>\n",
       "      <td>0.062396</td>\n",
       "      <td>0.522896</td>\n",
       "      <td>0.869714</td>\n",
       "      <td>0.084790</td>\n",
       "      <td>0.482720</td>\n",
       "      <td>0.388713</td>\n",
       "      <td>False</td>\n",
       "    </tr>\n",
       "    <tr>\n",
       "      <th>2</th>\n",
       "      <td>0.436485</td>\n",
       "      <td>0.014795</td>\n",
       "      <td>0.014795</td>\n",
       "      <td>0.014795</td>\n",
       "      <td>0.014795</td>\n",
       "      <td>0.014795</td>\n",
       "      <td>0.014795</td>\n",
       "      <td>0.014795</td>\n",
       "      <td>0.014795</td>\n",
       "      <td>0.163781</td>\n",
       "      <td>...</td>\n",
       "      <td>0.189158</td>\n",
       "      <td>0.056020</td>\n",
       "      <td>0.720954</td>\n",
       "      <td>0.116882</td>\n",
       "      <td>0.713687</td>\n",
       "      <td>0.690049</td>\n",
       "      <td>0.142186</td>\n",
       "      <td>0.813777</td>\n",
       "      <td>0.242271</td>\n",
       "      <td>True</td>\n",
       "    </tr>\n",
       "    <tr>\n",
       "      <th>3</th>\n",
       "      <td>0.775549</td>\n",
       "      <td>0.000500</td>\n",
       "      <td>0.000500</td>\n",
       "      <td>0.000500</td>\n",
       "      <td>0.000500</td>\n",
       "      <td>0.000500</td>\n",
       "      <td>0.000500</td>\n",
       "      <td>0.000500</td>\n",
       "      <td>0.000500</td>\n",
       "      <td>0.244668</td>\n",
       "      <td>...</td>\n",
       "      <td>0.143620</td>\n",
       "      <td>0.104671</td>\n",
       "      <td>0.158852</td>\n",
       "      <td>0.084473</td>\n",
       "      <td>0.740847</td>\n",
       "      <td>0.051949</td>\n",
       "      <td>0.088525</td>\n",
       "      <td>0.190984</td>\n",
       "      <td>0.314430</td>\n",
       "      <td>False</td>\n",
       "    </tr>\n",
       "    <tr>\n",
       "      <th>4</th>\n",
       "      <td>0.498567</td>\n",
       "      <td>0.008101</td>\n",
       "      <td>0.008101</td>\n",
       "      <td>0.008101</td>\n",
       "      <td>0.008101</td>\n",
       "      <td>0.008101</td>\n",
       "      <td>0.008101</td>\n",
       "      <td>0.008101</td>\n",
       "      <td>0.008101</td>\n",
       "      <td>0.214576</td>\n",
       "      <td>...</td>\n",
       "      <td>0.136823</td>\n",
       "      <td>0.222555</td>\n",
       "      <td>0.235139</td>\n",
       "      <td>0.079847</td>\n",
       "      <td>0.727546</td>\n",
       "      <td>0.439619</td>\n",
       "      <td>0.083102</td>\n",
       "      <td>0.375475</td>\n",
       "      <td>0.327805</td>\n",
       "      <td>True</td>\n",
       "    </tr>\n",
       "  </tbody>\n",
       "</table>\n",
       "<p>5 rows × 30 columns</p>\n",
       "</div>"
      ],
      "text/plain": [
       "   Absolute Magnitude  Est Dia in KM(min)  Est Dia in KM(max)  \\\n",
       "0            0.498567            0.008101            0.008101   \n",
       "1            0.484241            0.009311            0.009311   \n",
       "2            0.436485            0.014795            0.014795   \n",
       "3            0.775549            0.000500            0.000500   \n",
       "4            0.498567            0.008101            0.008101   \n",
       "\n",
       "   Est Dia in M(min)  Est Dia in M(max)  Est Dia in Miles(min)  \\\n",
       "0           0.008101           0.008101               0.008101   \n",
       "1           0.009311           0.009311               0.009311   \n",
       "2           0.014795           0.014795               0.014795   \n",
       "3           0.000500           0.000500               0.000500   \n",
       "4           0.008101           0.008101               0.008101   \n",
       "\n",
       "   Est Dia in Miles(max)  Est Dia in Feet(min)  Est Dia in Feet(max)  \\\n",
       "0               0.008101              0.008101              0.008101   \n",
       "1               0.009311              0.009311              0.009311   \n",
       "2               0.014795              0.014795              0.014795   \n",
       "3               0.000500              0.000500              0.000500   \n",
       "4               0.008101              0.008101              0.008101   \n",
       "\n",
       "   Relative Velocity km per sec  ...  Semi Major Axis  Inclination  \\\n",
       "0                      0.130487  ...         0.177530     0.079736   \n",
       "1                      0.401336  ...         0.110378     0.376677   \n",
       "2                      0.163781  ...         0.189158     0.056020   \n",
       "3                      0.244668  ...         0.143620     0.104671   \n",
       "4                      0.214576  ...         0.136823     0.222555   \n",
       "\n",
       "   Asc Node Longitude  Orbital Period  Perihelion Distance  Perihelion Arg  \\\n",
       "0            0.873489        0.108378             0.596770        0.159035   \n",
       "1            0.379866        0.062396             0.522896        0.869714   \n",
       "2            0.720954        0.116882             0.713687        0.690049   \n",
       "3            0.158852        0.084473             0.740847        0.051949   \n",
       "4            0.235139        0.079847             0.727546        0.439619   \n",
       "\n",
       "   Aphelion Dist  Mean Anomaly  Mean Motion  Hazardous  \n",
       "0       0.146942      0.735825     0.258239       True  \n",
       "1       0.084790      0.482720     0.388713      False  \n",
       "2       0.142186      0.813777     0.242271       True  \n",
       "3       0.088525      0.190984     0.314430      False  \n",
       "4       0.083102      0.375475     0.327805       True  \n",
       "\n",
       "[5 rows x 30 columns]"
      ]
     },
     "execution_count": 167,
     "metadata": {},
     "output_type": "execute_result"
    }
   ],
   "source": [
    "df.head()"
   ]
  },
  {
   "cell_type": "code",
   "execution_count": 168,
   "metadata": {},
   "outputs": [
    {
     "name": "stdout",
     "output_type": "stream",
     "text": [
      "(7864, 18)\n"
     ]
    },
    {
     "data": {
      "text/html": [
       "<div>\n",
       "<style scoped>\n",
       "    .dataframe tbody tr th:only-of-type {\n",
       "        vertical-align: middle;\n",
       "    }\n",
       "\n",
       "    .dataframe tbody tr th {\n",
       "        vertical-align: top;\n",
       "    }\n",
       "\n",
       "    .dataframe thead th {\n",
       "        text-align: right;\n",
       "    }\n",
       "</style>\n",
       "<table border=\"1\" class=\"dataframe\">\n",
       "  <thead>\n",
       "    <tr style=\"text-align: right;\">\n",
       "      <th></th>\n",
       "      <th>Absolute Magnitude</th>\n",
       "      <th>Est Dia in KM(min)</th>\n",
       "      <th>Relative Velocity km per hr</th>\n",
       "      <th>Miss Dist.(kilometers)</th>\n",
       "      <th>Orbit Uncertainity</th>\n",
       "      <th>Minimum Orbit Intersection</th>\n",
       "      <th>Jupiter Tisserand Invariant</th>\n",
       "      <th>Eccentricity</th>\n",
       "      <th>Semi Major Axis</th>\n",
       "      <th>Inclination</th>\n",
       "      <th>Asc Node Longitude</th>\n",
       "      <th>Orbital Period</th>\n",
       "      <th>Perihelion Distance</th>\n",
       "      <th>Perihelion Arg</th>\n",
       "      <th>Aphelion Dist</th>\n",
       "      <th>Mean Anomaly</th>\n",
       "      <th>Mean Motion</th>\n",
       "      <th>Hazardous</th>\n",
       "    </tr>\n",
       "  </thead>\n",
       "  <tbody>\n",
       "    <tr>\n",
       "      <th>0</th>\n",
       "      <td>0.498567</td>\n",
       "      <td>0.008101</td>\n",
       "      <td>0.130487</td>\n",
       "      <td>0.839102</td>\n",
       "      <td>0.555556</td>\n",
       "      <td>0.052899</td>\n",
       "      <td>0.357007</td>\n",
       "      <td>0.438763</td>\n",
       "      <td>0.177530</td>\n",
       "      <td>0.079736</td>\n",
       "      <td>0.873489</td>\n",
       "      <td>0.108378</td>\n",
       "      <td>0.596770</td>\n",
       "      <td>0.159035</td>\n",
       "      <td>0.146942</td>\n",
       "      <td>0.735825</td>\n",
       "      <td>0.258239</td>\n",
       "      <td>True</td>\n",
       "    </tr>\n",
       "    <tr>\n",
       "      <th>1</th>\n",
       "      <td>0.484241</td>\n",
       "      <td>0.009311</td>\n",
       "      <td>0.401336</td>\n",
       "      <td>0.766123</td>\n",
       "      <td>0.333333</td>\n",
       "      <td>0.391164</td>\n",
       "      <td>0.477522</td>\n",
       "      <td>0.361224</td>\n",
       "      <td>0.110378</td>\n",
       "      <td>0.376677</td>\n",
       "      <td>0.379866</td>\n",
       "      <td>0.062396</td>\n",
       "      <td>0.522896</td>\n",
       "      <td>0.869714</td>\n",
       "      <td>0.084790</td>\n",
       "      <td>0.482720</td>\n",
       "      <td>0.388713</td>\n",
       "      <td>False</td>\n",
       "    </tr>\n",
       "    <tr>\n",
       "      <th>2</th>\n",
       "      <td>0.436485</td>\n",
       "      <td>0.014795</td>\n",
       "      <td>0.163781</td>\n",
       "      <td>0.101616</td>\n",
       "      <td>0.000000</td>\n",
       "      <td>0.090096</td>\n",
       "      <td>0.345731</td>\n",
       "      <td>0.357628</td>\n",
       "      <td>0.189158</td>\n",
       "      <td>0.056020</td>\n",
       "      <td>0.720954</td>\n",
       "      <td>0.116882</td>\n",
       "      <td>0.713687</td>\n",
       "      <td>0.690049</td>\n",
       "      <td>0.142186</td>\n",
       "      <td>0.813777</td>\n",
       "      <td>0.242271</td>\n",
       "      <td>True</td>\n",
       "    </tr>\n",
       "    <tr>\n",
       "      <th>3</th>\n",
       "      <td>0.775549</td>\n",
       "      <td>0.000500</td>\n",
       "      <td>0.244668</td>\n",
       "      <td>0.570624</td>\n",
       "      <td>0.666667</td>\n",
       "      <td>0.011529</td>\n",
       "      <td>0.424220</td>\n",
       "      <td>0.219426</td>\n",
       "      <td>0.143620</td>\n",
       "      <td>0.104671</td>\n",
       "      <td>0.158852</td>\n",
       "      <td>0.084473</td>\n",
       "      <td>0.740847</td>\n",
       "      <td>0.051949</td>\n",
       "      <td>0.088525</td>\n",
       "      <td>0.190984</td>\n",
       "      <td>0.314430</td>\n",
       "      <td>False</td>\n",
       "    </tr>\n",
       "    <tr>\n",
       "      <th>4</th>\n",
       "      <td>0.498567</td>\n",
       "      <td>0.008101</td>\n",
       "      <td>0.214576</td>\n",
       "      <td>0.815788</td>\n",
       "      <td>0.111111</td>\n",
       "      <td>0.072812</td>\n",
       "      <td>0.433153</td>\n",
       "      <td>0.212992</td>\n",
       "      <td>0.136823</td>\n",
       "      <td>0.222555</td>\n",
       "      <td>0.235139</td>\n",
       "      <td>0.079847</td>\n",
       "      <td>0.727546</td>\n",
       "      <td>0.439619</td>\n",
       "      <td>0.083102</td>\n",
       "      <td>0.375475</td>\n",
       "      <td>0.327805</td>\n",
       "      <td>True</td>\n",
       "    </tr>\n",
       "  </tbody>\n",
       "</table>\n",
       "</div>"
      ],
      "text/plain": [
       "   Absolute Magnitude  Est Dia in KM(min)  Relative Velocity km per hr  \\\n",
       "0            0.498567            0.008101                     0.130487   \n",
       "1            0.484241            0.009311                     0.401336   \n",
       "2            0.436485            0.014795                     0.163781   \n",
       "3            0.775549            0.000500                     0.244668   \n",
       "4            0.498567            0.008101                     0.214576   \n",
       "\n",
       "   Miss Dist.(kilometers)  Orbit Uncertainity  Minimum Orbit Intersection  \\\n",
       "0                0.839102            0.555556                    0.052899   \n",
       "1                0.766123            0.333333                    0.391164   \n",
       "2                0.101616            0.000000                    0.090096   \n",
       "3                0.570624            0.666667                    0.011529   \n",
       "4                0.815788            0.111111                    0.072812   \n",
       "\n",
       "   Jupiter Tisserand Invariant  Eccentricity  Semi Major Axis  Inclination  \\\n",
       "0                     0.357007      0.438763         0.177530     0.079736   \n",
       "1                     0.477522      0.361224         0.110378     0.376677   \n",
       "2                     0.345731      0.357628         0.189158     0.056020   \n",
       "3                     0.424220      0.219426         0.143620     0.104671   \n",
       "4                     0.433153      0.212992         0.136823     0.222555   \n",
       "\n",
       "   Asc Node Longitude  Orbital Period  Perihelion Distance  Perihelion Arg  \\\n",
       "0            0.873489        0.108378             0.596770        0.159035   \n",
       "1            0.379866        0.062396             0.522896        0.869714   \n",
       "2            0.720954        0.116882             0.713687        0.690049   \n",
       "3            0.158852        0.084473             0.740847        0.051949   \n",
       "4            0.235139        0.079847             0.727546        0.439619   \n",
       "\n",
       "   Aphelion Dist  Mean Anomaly  Mean Motion  Hazardous  \n",
       "0       0.146942      0.735825     0.258239       True  \n",
       "1       0.084790      0.482720     0.388713      False  \n",
       "2       0.142186      0.813777     0.242271       True  \n",
       "3       0.088525      0.190984     0.314430      False  \n",
       "4       0.083102      0.375475     0.327805       True  "
      ]
     },
     "execution_count": 168,
     "metadata": {},
     "output_type": "execute_result"
    }
   ],
   "source": [
    "# drop unused feature\n",
    "df = df.drop(['Est Dia in KM(max)','Est Dia in M(min)','Est Dia in M(max)','Est Dia in Miles(min)','Est Dia in Miles(max)','Est Dia in Feet(min)','Est Dia in Feet(max)',\n",
    "'Relative Velocity km per sec','Miles per hour',\n",
    "'Miss Dist.(Astronomical)','Miss Dist.(lunar)','Miss Dist.(miles)'],axis = 1)\n",
    "print(df.shape)\n",
    "df.head()"
   ]
  },
  {
   "cell_type": "code",
   "execution_count": 169,
   "metadata": {},
   "outputs": [
    {
     "data": {
      "text/plain": [
       "<AxesSubplot:>"
      ]
     },
     "execution_count": 169,
     "metadata": {},
     "output_type": "execute_result"
    },
    {
     "data": {
      "image/png": "[encoded data removed]",
      "text/plain": [
       "<Figure size 720x720 with 2 Axes>"
      ]
     },
     "metadata": {},
     "output_type": "display_data"
    }
   ],
   "source": [
    "sns.set(style='darkgrid')\n",
    "plt.figure(figsize=(10, 10))\n",
    "sns.heatmap(df.corr())"
   ]
  },
  {
   "cell_type": "code",
   "execution_count": 170,
   "metadata": {},
   "outputs": [
    {
     "data": {
      "text/plain": [
       "<AxesSubplot:>"
      ]
     },
     "execution_count": 170,
     "metadata": {},
     "output_type": "execute_result"
    },
    {
     "data": {
      "image/png": "[encoded data removed]",
      "text/plain": [
       "<Figure size 432x288 with 1 Axes>"
      ]
     },
     "metadata": {},
     "output_type": "display_data"
    }
   ],
   "source": [
    "# show feature correlation to hazardous class\n",
    "df.corr()['Hazardous'][:-1].sort_values().plot(kind='bar')"
   ]
  },
  {
   "cell_type": "code",
   "execution_count": 171,
   "metadata": {},
   "outputs": [
    {
     "name": "stdout",
     "output_type": "stream",
     "text": [
      "True     3932\n",
      "False    3932\n",
      "Name: Hazardous, dtype: int64\n",
      "\n",
      "\n"
     ]
    },
    {
     "data": {
      "image/png": "[encoded data removed]",
      "text/plain": [
       "<Figure size 432x288 with 1 Axes>"
      ]
     },
     "metadata": {},
     "output_type": "display_data"
    }
   ],
   "source": [
    "# get the values\n",
    "print(df['Hazardous'].value_counts())\n",
    "print('\\n')\n",
    "\n",
    "# show class value chart\n",
    "lab = 'False','True'\n",
    "plt.pie(df['Hazardous'].value_counts(), labels = lab, colors = ['green','red'],\n",
    "        autopct='%1.1f%%')\n",
    "plt.title('Hazardous Nature')\n",
    "plt.show()"
   ]
  },
  {
   "cell_type": "code",
   "execution_count": 172,
   "metadata": {},
   "outputs": [
    {
     "name": "stdout",
     "output_type": "stream",
     "text": [
      "0.000000    3321\n",
      "0.111111    1085\n",
      "0.777778     715\n",
      "0.666667     681\n",
      "0.222222     513\n",
      "0.555556     408\n",
      "0.333333     346\n",
      "0.444444     342\n",
      "0.888889     330\n",
      "1.000000     123\n",
      "Name: Orbit Uncertainity, dtype: int64\n",
      "\n",
      "\n"
     ]
    },
    {
     "data": {
      "application/vnd.plotly.v1+json": {
       "config": {
        "plotlyServerURL": "https://plot.ly"
       },
       "data": [
        {
         "alignmentgroup": "True",
         "hovertemplate": "Orbit Uncertainity=%{x}<br>y=%{y}<extra></extra>",
         "legendgroup": "",
         "marker": {
          "color": "#636efa",
          "pattern": {
           "shape": ""
          }
         },
         "name": "",
         "offsetgroup": "",
         "orientation": "v",
         "showlegend": false,
         "textposition": "auto",
         "type": "bar",
         "x": [
          0,
          0.1111111111111111,
          0.2222222222222222,
          0.3333333333333333,
          0.4444444444444444,
          0.5555555555555556,
          0.6666666666666666,
          0.7777777777777778,
          0.8888888888888888,
          1
         ],
         "xaxis": "x",
         "y": [
          42.23041709053917,
          13.797049847405901,
          6.523397761953205,
          4.399796541200407,
          4.348931841302137,
          5.188199389623601,
          8.65971515768057,
          9.09206510681587,
          4.196337741607325,
          1.564089521871821
         ],
         "yaxis": "y"
        }
       ],
       "layout": {
        "barmode": "relative",
        "legend": {
         "tracegroupgap": 0
        },
        "margin": {
         "t": 60
        },
        "template": {
         "data": {
          "bar": [
           {
            "error_x": {
             "color": "#2a3f5f"
            },
            "error_y": {
             "color": "#2a3f5f"
            },
            "marker": {
             "line": {
              "color": "#E5ECF6",
              "width": 0.5
             },
             "pattern": {
              "fillmode": "overlay",
              "size": 10,
              "solidity": 0.2
             }
            },
            "type": "bar"
           }
          ],
          "barpolar": [
           {
            "marker": {
             "line": {
              "color": "#E5ECF6",
              "width": 0.5
             },
             "pattern": {
              "fillmode": "overlay",
              "size": 10,
              "solidity": 0.2
             }
            },
            "type": "barpolar"
           }
          ],
          "carpet": [
           {
            "aaxis": {
             "endlinecolor": "#2a3f5f",
             "gridcolor": "white",
             "linecolor": "white",
             "minorgridcolor": "white",
             "startlinecolor": "#2a3f5f"
            },
            "baxis": {
             "endlinecolor": "#2a3f5f",
             "gridcolor": "white",
             "linecolor": "white",
             "minorgridcolor": "white",
             "startlinecolor": "#2a3f5f"
            },
            "type": "carpet"
           }
          ],
          "choropleth": [
           {
            "colorbar": {
             "outlinewidth": 0,
             "ticks": ""
            },
            "type": "choropleth"
           }
          ],
          "contour": [
           {
            "colorbar": {
             "outlinewidth": 0,
             "ticks": ""
            },
            "colorscale": [
             [
              0,
              "#0d0887"
             ],
             [
              0.1111111111111111,
              "#46039f"
             ],
             [
              0.2222222222222222,
              "#7201a8"
             ],
             [
              0.3333333333333333,
              "#9c179e"
             ],
             [
              0.4444444444444444,
              "#bd3786"
             ],
             [
              0.5555555555555556,
              "#d8576b"
             ],
             [
              0.6666666666666666,
              "#ed7953"
             ],
             [
              0.7777777777777778,
              "#fb9f3a"
             ],
             [
              0.8888888888888888,
              "#fdca26"
             ],
             [
              1,
              "#f0f921"
             ]
            ],
            "type": "contour"
           }
          ],
          "contourcarpet": [
           {
            "colorbar": {
             "outlinewidth": 0,
             "ticks": ""
            },
            "type": "contourcarpet"
           }
          ],
          "heatmap": [
           {
            "colorbar": {
             "outlinewidth": 0,
             "ticks": ""
            },
            "colorscale": [
             [
              0,
              "#0d0887"
             ],
             [
              0.1111111111111111,
              "#46039f"
             ],
             [
              0.2222222222222222,
              "#7201a8"
             ],
             [
              0.3333333333333333,
              "#9c179e"
             ],
             [
              0.4444444444444444,
              "#bd3786"
             ],
             [
              0.5555555555555556,
              "#d8576b"
             ],
             [
              0.6666666666666666,
              "#ed7953"
             ],
             [
              0.7777777777777778,
              "#fb9f3a"
             ],
             [
              0.8888888888888888,
              "#fdca26"
             ],
             [
              1,
              "#f0f921"
             ]
            ],
            "type": "heatmap"
           }
          ],
          "heatmapgl": [
           {
            "colorbar": {
             "outlinewidth": 0,
             "ticks": ""
            },
            "colorscale": [
             [
              0,
              "#0d0887"
             ],
             [
              0.1111111111111111,
              "#46039f"
             ],
             [
              0.2222222222222222,
              "#7201a8"
             ],
             [
              0.3333333333333333,
              "#9c179e"
             ],
             [
              0.4444444444444444,
              "#bd3786"
             ],
             [
              0.5555555555555556,
              "#d8576b"
             ],
             [
              0.6666666666666666,
              "#ed7953"
             ],
             [
              0.7777777777777778,
              "#fb9f3a"
             ],
             [
              0.8888888888888888,
              "#fdca26"
             ],
             [
              1,
              "#f0f921"
             ]
            ],
            "type": "heatmapgl"
           }
          ],
          "histogram": [
           {
            "marker": {
             "pattern": {
              "fillmode": "overlay",
              "size": 10,
              "solidity": 0.2
             }
            },
            "type": "histogram"
           }
          ],
          "histogram2d": [
           {
            "colorbar": {
             "outlinewidth": 0,
             "ticks": ""
            },
            "colorscale": [
             [
              0,
              "#0d0887"
             ],
             [
              0.1111111111111111,
              "#46039f"
             ],
             [
              0.2222222222222222,
              "#7201a8"
             ],
             [
              0.3333333333333333,
              "#9c179e"
             ],
             [
              0.4444444444444444,
              "#bd3786"
             ],
             [
              0.5555555555555556,
              "#d8576b"
             ],
             [
              0.6666666666666666,
              "#ed7953"
             ],
             [
              0.7777777777777778,
              "#fb9f3a"
             ],
             [
              0.8888888888888888,
              "#fdca26"
             ],
             [
              1,
              "#f0f921"
             ]
            ],
            "type": "histogram2d"
           }
          ],
          "histogram2dcontour": [
           {
            "colorbar": {
             "outlinewidth": 0,
             "ticks": ""
            },
            "colorscale": [
             [
              0,
              "#0d0887"
             ],
             [
              0.1111111111111111,
              "#46039f"
             ],
             [
              0.2222222222222222,
              "#7201a8"
             ],
             [
              0.3333333333333333,
              "#9c179e"
             ],
             [
              0.4444444444444444,
              "#bd3786"
             ],
             [
              0.5555555555555556,
              "#d8576b"
             ],
             [
              0.6666666666666666,
              "#ed7953"
             ],
             [
              0.7777777777777778,
              "#fb9f3a"
             ],
             [
              0.8888888888888888,
              "#fdca26"
             ],
             [
              1,
              "#f0f921"
             ]
            ],
            "type": "histogram2dcontour"
           }
          ],
          "mesh3d": [
           {
            "colorbar": {
             "outlinewidth": 0,
             "ticks": ""
            },
            "type": "mesh3d"
           }
          ],
          "parcoords": [
           {
            "line": {
             "colorbar": {
              "outlinewidth": 0,
              "ticks": ""
             }
            },
            "type": "parcoords"
           }
          ],
          "pie": [
           {
            "automargin": true,
            "type": "pie"
           }
          ],
          "scatter": [
           {
            "fillpattern": {
             "fillmode": "overlay",
             "size": 10,
             "solidity": 0.2
            },
            "type": "scatter"
           }
          ],
          "scatter3d": [
           {
            "line": {
             "colorbar": {
              "outlinewidth": 0,
              "ticks": ""
             }
            },
            "marker": {
             "colorbar": {
              "outlinewidth": 0,
              "ticks": ""
             }
            },
            "type": "scatter3d"
           }
          ],
          "scattercarpet": [
           {
            "marker": {
             "colorbar": {
              "outlinewidth": 0,
              "ticks": ""
             }
            },
            "type": "scattercarpet"
           }
          ],
          "scattergeo": [
           {
            "marker": {
             "colorbar": {
              "outlinewidth": 0,
              "ticks": ""
             }
            },
            "type": "scattergeo"
           }
          ],
          "scattergl": [
           {
            "marker": {
             "colorbar": {
              "outlinewidth": 0,
              "ticks": ""
             }
            },
            "type": "scattergl"
           }
          ],
          "scattermapbox": [
           {
            "marker": {
             "colorbar": {
              "outlinewidth": 0,
              "ticks": ""
             }
            },
            "type": "scattermapbox"
           }
          ],
          "scatterpolar": [
           {
            "marker": {
             "colorbar": {
              "outlinewidth": 0,
              "ticks": ""
             }
            },
            "type": "scatterpolar"
           }
          ],
          "scatterpolargl": [
           {
            "marker": {
             "colorbar": {
              "outlinewidth": 0,
              "ticks": ""
             }
            },
            "type": "scatterpolargl"
           }
          ],
          "scatterternary": [
           {
            "marker": {
             "colorbar": {
              "outlinewidth": 0,
              "ticks": ""
             }
            },
            "type": "scatterternary"
           }
          ],
          "surface": [
           {
            "colorbar": {
             "outlinewidth": 0,
             "ticks": ""
            },
            "colorscale": [
             [
              0,
              "#0d0887"
             ],
             [
              0.1111111111111111,
              "#46039f"
             ],
             [
              0.2222222222222222,
              "#7201a8"
             ],
             [
              0.3333333333333333,
              "#9c179e"
             ],
             [
              0.4444444444444444,
              "#bd3786"
             ],
             [
              0.5555555555555556,
              "#d8576b"
             ],
             [
              0.6666666666666666,
              "#ed7953"
             ],
             [
              0.7777777777777778,
              "#fb9f3a"
             ],
             [
              0.8888888888888888,
              "#fdca26"
             ],
             [
              1,
              "#f0f921"
             ]
            ],
            "type": "surface"
           }
          ],
          "table": [
           {
            "cells": {
             "fill": {
              "color": "#EBF0F8"
             },
             "line": {
              "color": "white"
             }
            },
            "header": {
             "fill": {
              "color": "#C8D4E3"
             },
             "line": {
              "color": "white"
             }
            },
            "type": "table"
           }
          ]
         },
         "layout": {
          "annotationdefaults": {
           "arrowcolor": "#2a3f5f",
           "arrowhead": 0,
           "arrowwidth": 1
          },
          "autotypenumbers": "strict",
          "coloraxis": {
           "colorbar": {
            "outlinewidth": 0,
            "ticks": ""
           }
          },
          "colorscale": {
           "diverging": [
            [
             0,
             "#8e0152"
            ],
            [
             0.1,
             "#c51b7d"
            ],
            [
             0.2,
             "#de77ae"
            ],
            [
             0.3,
             "#f1b6da"
            ],
            [
             0.4,
             "#fde0ef"
            ],
            [
             0.5,
             "#f7f7f7"
            ],
            [
             0.6,
             "#e6f5d0"
            ],
            [
             0.7,
             "#b8e186"
            ],
            [
             0.8,
             "#7fbc41"
            ],
            [
             0.9,
             "#4d9221"
            ],
            [
             1,
             "#276419"
            ]
           ],
           "sequential": [
            [
             0,
             "#0d0887"
            ],
            [
             0.1111111111111111,
             "#46039f"
            ],
            [
             0.2222222222222222,
             "#7201a8"
            ],
            [
             0.3333333333333333,
             "#9c179e"
            ],
            [
             0.4444444444444444,
             "#bd3786"
            ],
            [
             0.5555555555555556,
             "#d8576b"
            ],
            [
             0.6666666666666666,
             "#ed7953"
            ],
            [
             0.7777777777777778,
             "#fb9f3a"
            ],
            [
             0.8888888888888888,
             "#fdca26"
            ],
            [
             1,
             "#f0f921"
            ]
           ],
           "sequentialminus": [
            [
             0,
             "#0d0887"
            ],
            [
             0.1111111111111111,
             "#46039f"
            ],
            [
             0.2222222222222222,
             "#7201a8"
            ],
            [
             0.3333333333333333,
             "#9c179e"
            ],
            [
             0.4444444444444444,
             "#bd3786"
            ],
            [
             0.5555555555555556,
             "#d8576b"
            ],
            [
             0.6666666666666666,
             "#ed7953"
            ],
            [
             0.7777777777777778,
             "#fb9f3a"
            ],
            [
             0.8888888888888888,
             "#fdca26"
            ],
            [
             1,
             "#f0f921"
            ]
           ]
          },
          "colorway": [
           "#636efa",
           "#EF553B",
           "#00cc96",
           "#ab63fa",
           "#FFA15A",
           "#19d3f3",
           "#FF6692",
           "#B6E880",
           "#FF97FF",
           "#FECB52"
          ],
          "font": {
           "color": "#2a3f5f"
          },
          "geo": {
           "bgcolor": "white",
           "lakecolor": "white",
           "landcolor": "#E5ECF6",
           "showlakes": true,
           "showland": true,
           "subunitcolor": "white"
          },
          "hoverlabel": {
           "align": "left"
          },
          "hovermode": "closest",
          "mapbox": {
           "style": "light"
          },
          "paper_bgcolor": "white",
          "plot_bgcolor": "#E5ECF6",
          "polar": {
           "angularaxis": {
            "gridcolor": "white",
            "linecolor": "white",
            "ticks": ""
           },
           "bgcolor": "#E5ECF6",
           "radialaxis": {
            "gridcolor": "white",
            "linecolor": "white",
            "ticks": ""
           }
          },
          "scene": {
           "xaxis": {
            "backgroundcolor": "#E5ECF6",
            "gridcolor": "white",
            "gridwidth": 2,
            "linecolor": "white",
            "showbackground": true,
            "ticks": "",
            "zerolinecolor": "white"
           },
           "yaxis": {
            "backgroundcolor": "#E5ECF6",
            "gridcolor": "white",
            "gridwidth": 2,
            "linecolor": "white",
            "showbackground": true,
            "ticks": "",
            "zerolinecolor": "white"
           },
           "zaxis": {
            "backgroundcolor": "#E5ECF6",
            "gridcolor": "white",
            "gridwidth": 2,
            "linecolor": "white",
            "showbackground": true,
            "ticks": "",
            "zerolinecolor": "white"
           }
          },
          "shapedefaults": {
           "line": {
            "color": "#2a3f5f"
           }
          },
          "ternary": {
           "aaxis": {
            "gridcolor": "white",
            "linecolor": "white",
            "ticks": ""
           },
           "baxis": {
            "gridcolor": "white",
            "linecolor": "white",
            "ticks": ""
           },
           "bgcolor": "#E5ECF6",
           "caxis": {
            "gridcolor": "white",
            "linecolor": "white",
            "ticks": ""
           }
          },
          "title": {
           "x": 0.05
          },
          "xaxis": {
           "automargin": true,
           "gridcolor": "white",
           "linecolor": "white",
           "ticks": "",
           "title": {
            "standoff": 15
           },
           "zerolinecolor": "white",
           "zerolinewidth": 2
          },
          "yaxis": {
           "automargin": true,
           "gridcolor": "white",
           "linecolor": "white",
           "ticks": "",
           "title": {
            "standoff": 15
           },
           "zerolinecolor": "white",
           "zerolinewidth": 2
          }
         }
        },
        "title": {
         "text": "Orbit Uncertainity"
        },
        "xaxis": {
         "anchor": "y",
         "domain": [
          0,
          1
         ],
         "title": {
          "text": "Orbit Uncertainity"
         }
        },
        "yaxis": {
         "anchor": "x",
         "domain": [
          0,
          1
         ],
         "title": {
          "text": "percentage"
         }
        }
       }
      }
     },
     "metadata": {},
     "output_type": "display_data"
    }
   ],
   "source": [
    "# get the values\n",
    "print(df['Orbit Uncertainity'].value_counts())\n",
    "print('\\n')\n",
    "\n",
    "# show Orbit uncertainty value chart\n",
    "df1 = df.groupby([\"Orbit Uncertainity\"]).count().reset_index()\n",
    "\n",
    "fig = px.bar(df1,\n",
    "    y=df.groupby([\"Orbit Uncertainity\"]).size()/len(df)*100,\n",
    "    x=\"Orbit Uncertainity\")\n",
    "fig.update_layout(yaxis_title='percentage',\n",
    "    title_text='Orbit Uncertainity')\n",
    "fig.show()"
   ]
  },
  {
   "cell_type": "code",
   "execution_count": 173,
   "metadata": {},
   "outputs": [
    {
     "data": {
      "text/plain": [
       "<AxesSubplot:title={'center':'Orbit Uncertainity vs. Hazardous Nature'}, xlabel='Orbit Uncertainity'>"
      ]
     },
     "execution_count": 173,
     "metadata": {},
     "output_type": "execute_result"
    },
    {
     "data": {
      "image/png": "[encoded data removed]",
      "text/plain": [
       "<Figure size 432x288 with 1 Axes>"
      ]
     },
     "metadata": {},
     "output_type": "display_data"
    }
   ],
   "source": [
    "# show Uncertainty vs Hazardous chart\n",
    "df.groupby('Orbit Uncertainity')['Hazardous'].value_counts(normalize=True).unstack('Hazardous').plot.bar(stacked=True, title='Orbit Uncertainity vs. Hazardous Nature')"
   ]
  },
  {
   "cell_type": "code",
   "execution_count": 174,
   "metadata": {},
   "outputs": [
    {
     "data": {
      "text/plain": [
       "Text(0.5, 1.0, 'Absolute Magnitude')"
      ]
     },
     "execution_count": 174,
     "metadata": {},
     "output_type": "execute_result"
    },
    {
     "data": {
      "image/png": "[encoded data removed]",
      "text/plain": [
       "<Figure size 432x288 with 1 Axes>"
      ]
     },
     "metadata": {},
     "output_type": "display_data"
    }
   ],
   "source": [
    "# show Absolute Magnitude chart\n",
    "sns.histplot(data['Absolute Magnitude']).set_title('Absolute Magnitude')"
   ]
  },
  {
   "cell_type": "code",
   "execution_count": 175,
   "metadata": {},
   "outputs": [
    {
     "data": {
      "text/plain": [
       "Text(0.5, 1.0, 'Absolute Magnitude vs. Hazardous Nature')"
      ]
     },
     "execution_count": 175,
     "metadata": {},
     "output_type": "execute_result"
    },
    {
     "data": {
      "image/png": "[encoded data removed]",
      "text/plain": [
       "<Figure size 432x288 with 1 Axes>"
      ]
     },
     "metadata": {},
     "output_type": "display_data"
    }
   ],
   "source": [
    "# show Absolute Magnitude vs Hazardous chart\n",
    "sns.boxplot(x=\"Hazardous\", y=\"Absolute Magnitude\",data=df,palette=('green','red')).set_title('Absolute Magnitude vs. Hazardous Nature')"
   ]
  },
  {
   "cell_type": "code",
   "execution_count": 176,
   "metadata": {},
   "outputs": [
    {
     "data": {
      "text/plain": [
       "Text(0.5, 1.0, 'Minimum Orbit Intersection')"
      ]
     },
     "execution_count": 176,
     "metadata": {},
     "output_type": "execute_result"
    },
    {
     "data": {
      "image/png": "[encoded data removed]",
      "text/plain": [
       "<Figure size 432x288 with 1 Axes>"
      ]
     },
     "metadata": {},
     "output_type": "display_data"
    }
   ],
   "source": [
    "# show  Minimum Orbit Intersection chart\n",
    "sns.histplot(data['Minimum Orbit Intersection']).set_title('Minimum Orbit Intersection')"
   ]
  },
  {
   "cell_type": "code",
   "execution_count": 177,
   "metadata": {},
   "outputs": [
    {
     "data": {
      "text/plain": [
       "Text(0.5, 1.0, 'Minimum Orbit Intersection vs. Hazardous Nature')"
      ]
     },
     "execution_count": 177,
     "metadata": {},
     "output_type": "execute_result"
    },
    {
     "data": {
      "image/png": "[encoded data removed]",
      "text/plain": [
       "<Figure size 432x288 with 1 Axes>"
      ]
     },
     "metadata": {},
     "output_type": "display_data"
    }
   ],
   "source": [
    "# show Minimum Orbit Intersection vs Hazardous chart\n",
    "sns.boxplot(x=\"Hazardous\", y=\"Minimum Orbit Intersection\",data=df,palette=('green','red')).set_title('Minimum Orbit Intersection vs. Hazardous Nature')"
   ]
  },
  {
   "cell_type": "code",
   "execution_count": 178,
   "metadata": {},
   "outputs": [
    {
     "data": {
      "text/plain": [
       "Text(0.5, 1.0, 'Perihelion Distance')"
      ]
     },
     "execution_count": 178,
     "metadata": {},
     "output_type": "execute_result"
    },
    {
     "data": {
      "image/png": "[encoded data removed]",
      "text/plain": [
       "<Figure size 432x288 with 1 Axes>"
      ]
     },
     "metadata": {},
     "output_type": "display_data"
    }
   ],
   "source": [
    "# show  Perihelion Distance chart\n",
    "sns.histplot(data['Perihelion Distance']).set_title('Perihelion Distance')"
   ]
  },
  {
   "cell_type": "code",
   "execution_count": 179,
   "metadata": {},
   "outputs": [
    {
     "data": {
      "text/plain": [
       "Text(0.5, 1.0, 'Perihelion Distance vs. Hazardous Nature')"
      ]
     },
     "execution_count": 179,
     "metadata": {},
     "output_type": "execute_result"
    },
    {
     "data": {
      "image/png": "[encoded data removed]",
      "text/plain": [
       "<Figure size 432x288 with 1 Axes>"
      ]
     },
     "metadata": {},
     "output_type": "display_data"
    }
   ],
   "source": [
    "# show Perihelion Distance vs Hazardous chart\n",
    "sns.boxplot(x=\"Hazardous\", y=\"Perihelion Distance\",data=df,palette=('green','red')).set_title('Perihelion Distance vs. Hazardous Nature')"
   ]
  },
  {
   "cell_type": "code",
   "execution_count": 180,
   "metadata": {},
   "outputs": [
    {
     "data": {
      "text/plain": [
       "Text(0.5, 1.0, 'Estimated diameter(min)')"
      ]
     },
     "execution_count": 180,
     "metadata": {},
     "output_type": "execute_result"
    },
    {
     "data": {
      "image/png": "[encoded data removed]",
      "text/plain": [
       "<Figure size 432x288 with 1 Axes>"
      ]
     },
     "metadata": {},
     "output_type": "display_data"
    }
   ],
   "source": [
    "# show Est Dia in KM(min) chart\n",
    "sns.histplot(data['Est Dia in KM(min)']).set_title('Estimated diameter(min)')"
   ]
  },
  {
   "cell_type": "code",
   "execution_count": 181,
   "metadata": {},
   "outputs": [
    {
     "data": {
      "text/plain": [
       "Text(0.5, 1.0, 'Estimated diameter(min) vs. Hazardous Nature')"
      ]
     },
     "execution_count": 181,
     "metadata": {},
     "output_type": "execute_result"
    },
    {
     "data": {
      "image/png": "[encoded data removed]",
      "text/plain": [
       "<Figure size 432x288 with 1 Axes>"
      ]
     },
     "metadata": {},
     "output_type": "display_data"
    }
   ],
   "source": [
    "# show Estimated diameter(min) vs. Hazardous chart\n",
    "sns.boxplot(x=\"Hazardous\", y=\"Est Dia in KM(min)\",data=df,palette=('green','red')).set_title('Estimated diameter(min) vs. Hazardous Nature')"
   ]
  },
  {
   "cell_type": "code",
   "execution_count": 182,
   "metadata": {},
   "outputs": [
    {
     "data": {
      "text/plain": [
       "Text(0.5, 1.0, 'Eccentricity')"
      ]
     },
     "execution_count": 182,
     "metadata": {},
     "output_type": "execute_result"
    },
    {
     "data": {
      "image/png": "[encoded data removed]",
      "text/plain": [
       "<Figure size 432x288 with 1 Axes>"
      ]
     },
     "metadata": {},
     "output_type": "display_data"
    }
   ],
   "source": [
    "# show Eccentricity chart\n",
    "sns.histplot(data['Eccentricity']).set_title('Eccentricity')"
   ]
  },
  {
   "cell_type": "code",
   "execution_count": 183,
   "metadata": {},
   "outputs": [
    {
     "data": {
      "text/plain": [
       "Text(0.5, 1.0, 'Eccentricity vs. Hazardous Nature')"
      ]
     },
     "execution_count": 183,
     "metadata": {},
     "output_type": "execute_result"
    },
    {
     "data": {
      "image/png": "[encoded data removed]",
      "text/plain": [
       "<Figure size 432x288 with 1 Axes>"
      ]
     },
     "metadata": {},
     "output_type": "display_data"
    }
   ],
   "source": [
    "# show Eccentricity vs. Hazardous chart\n",
    "sns.boxplot(x=\"Hazardous\", y=\"Eccentricity\",data=df,palette=('green','red')).set_title('Eccentricity vs. Hazardous Nature')"
   ]
  },
  {
   "cell_type": "code",
   "execution_count": 184,
   "metadata": {},
   "outputs": [
    {
     "data": {
      "text/plain": [
       "Text(0.5, 1.0, 'Relative Velocity')"
      ]
     },
     "execution_count": 184,
     "metadata": {},
     "output_type": "execute_result"
    },
    {
     "data": {
      "image/png": "[encoded data removed]",
      "text/plain": [
       "<Figure size 432x288 with 1 Axes>"
      ]
     },
     "metadata": {},
     "output_type": "display_data"
    }
   ],
   "source": [
    "# show Relative Velocity chart\n",
    "sns.histplot(data['Relative Velocity km per hr']).set_title('Relative Velocity')"
   ]
  },
  {
   "cell_type": "code",
   "execution_count": 185,
   "metadata": {},
   "outputs": [
    {
     "data": {
      "text/plain": [
       "Text(0.5, 1.0, 'Relative Velocity vs. Hazardous Nature')"
      ]
     },
     "execution_count": 185,
     "metadata": {},
     "output_type": "execute_result"
    },
    {
     "data": {
      "image/png": "[encoded data removed]",
      "text/plain": [
       "<Figure size 432x288 with 1 Axes>"
      ]
     },
     "metadata": {},
     "output_type": "display_data"
    }
   ],
   "source": [
    "# show Relative Velocity vs. Hazardous Nature chart\n",
    "sns.boxplot(x=\"Hazardous\", y=\"Relative Velocity km per hr\",data=df,palette=('green','red')).set_title('Relative Velocity vs. Hazardous Nature')"
   ]
  },
  {
   "cell_type": "code",
   "execution_count": 186,
   "metadata": {},
   "outputs": [],
   "source": [
    "# prepare feature and class\n",
    "y=df[\"Hazardous\"]\n",
    "x=df.drop([\"Hazardous\"],axis=1)"
   ]
  },
  {
   "cell_type": "code",
   "execution_count": 187,
   "metadata": {},
   "outputs": [
    {
     "name": "stdout",
     "output_type": "stream",
     "text": [
      "(5504, 17)\n",
      "(2360, 17)\n"
     ]
    }
   ],
   "source": [
    "# split dataset for train and test \n",
    "train_x,test_x,train_y,test_y=train_test_split(x,y,test_size=0.3)\n",
    "print(train_x.shape)\n",
    "print(test_x.shape)"
   ]
  },
  {
   "cell_type": "code",
   "execution_count": 188,
   "metadata": {},
   "outputs": [],
   "source": [
    "# define a function to train and test the models\n",
    "def train_test_model(model, train_x, test_x, train_y, test_y,labels):\n",
    "    ''' \n",
    "    Train and test the model using the training and test data sets. \n",
    "    Return the predictions, accuracy and metric reports. \n",
    "    '''\n",
    "    model.fit(train_x, train_y)\n",
    "    predictions = model.predict(test_x)\n",
    "    accuracy = model.score(test_x, test_y)\n",
    "    metrics_report = classification_report(test_y, predictions)\n",
    "    precision, recall, fscore, train_support = score(test_y, predictions, average='weighted')\n",
    "    return predictions, accuracy, metrics_report, (precision, recall, fscore)"
   ]
  },
  {
   "cell_type": "code",
   "execution_count": 189,
   "metadata": {},
   "outputs": [
    {
     "name": "stdout",
     "output_type": "stream",
     "text": [
      "[ True False]\n"
     ]
    }
   ],
   "source": [
    "labels = df.Hazardous.unique()\n",
    "print(labels)"
   ]
  },
  {
   "cell_type": "code",
   "execution_count": 190,
   "metadata": {},
   "outputs": [
    {
     "name": "stdout",
     "output_type": "stream",
     "text": [
      "accuracy: 0.9991525423728813\n",
      "====================================================================================================\n",
      "              precision    recall  f1-score   support\n",
      "\n",
      "       False       1.00      1.00      1.00      1169\n",
      "        True       1.00      1.00      1.00      1191\n",
      "\n",
      "    accuracy                           1.00      2360\n",
      "   macro avg       1.00      1.00      1.00      2360\n",
      "weighted avg       1.00      1.00      1.00      2360\n",
      "\n"
     ]
    },
    {
     "name": "stderr",
     "output_type": "stream",
     "text": [
      "c:\\Users\\User\\AppData\\Local\\Programs\\Python\\Python38-32\\lib\\site-packages\\sklearn\\utils\\deprecation.py:87: FutureWarning:\n",
      "\n",
      "Function plot_confusion_matrix is deprecated; Function `plot_confusion_matrix` is deprecated in 1.0 and will be removed in 1.2. Use one of the class methods: ConfusionMatrixDisplay.from_predictions or ConfusionMatrixDisplay.from_estimator.\n",
      "\n"
     ]
    },
    {
     "data": {
      "text/plain": [
       "<sklearn.metrics._plot.confusion_matrix.ConfusionMatrixDisplay at 0x1d01b208>"
      ]
     },
     "execution_count": 190,
     "metadata": {},
     "output_type": "execute_result"
    },
    {
     "data": {
      "image/png": "[encoded data removed]",
      "text/plain": [
       "<Figure size 432x288 with 2 Axes>"
      ]
     },
     "metadata": {},
     "output_type": "display_data"
    }
   ],
   "source": [
    "rf_model = RandomForestClassifier(n_estimators=100, max_depth=100, min_samples_split=10, n_jobs=-1, verbose=0)\n",
    "\n",
    "# fit & predict model\n",
    "predictions, accuracy, metrics_report, rf_prf = train_test_model(rf_model, train_x, test_x, train_y, test_y, labels)\n",
    "print('accuracy: {}'.format(accuracy))\n",
    "print('='*100)\n",
    "print(metrics_report)\n",
    "plot_confusion_matrix(rf_model, test_x, test_y, display_labels=labels, xticks_rotation='vertical', cmap=\"BuPu\")"
   ]
  },
  {
   "cell_type": "code",
   "execution_count": 191,
   "metadata": {},
   "outputs": [
    {
     "name": "stderr",
     "output_type": "stream",
     "text": [
      "No artists with labels found to put in legend.  Note that artists whose label start with an underscore are ignored when legend() is called with no argument.\n"
     ]
    },
    {
     "data": {
      "image/png": "[encoded data removed]",
      "text/plain": [
       "<Figure size 432x288 with 1 Axes>"
      ]
     },
     "metadata": {},
     "output_type": "display_data"
    }
   ],
   "source": [
    "# Visualizing Important Features\n",
    "feature_imp = pd.Series(rf_model.feature_importances_,index=x.columns.tolist()).sort_values(ascending=False)\n",
    "sns.barplot(x=feature_imp, y=feature_imp.index)\n",
    "plt.xlabel('Feature Importance Score')\n",
    "plt.ylabel('Features')\n",
    "plt.title(\"Visualizing Important Features\")\n",
    "plt.legend()\n",
    "plt.show()"
   ]
  },
  {
   "cell_type": "code",
   "execution_count": 192,
   "metadata": {},
   "outputs": [
    {
     "data": {
      "image/png": "[encoded data removed]",
      "text/plain": [
       "<Figure size 432x288 with 1 Axes>"
      ]
     },
     "metadata": {},
     "output_type": "display_data"
    }
   ],
   "source": [
    "# show Hazardous Nature vs. Minimum Orbit Intersection vs. Absolute Magnitude chart\n",
    "sns.scatterplot(x=df['Absolute Magnitude'],y=df['Minimum Orbit Intersection'],hue=df['Hazardous'],palette=['green','red']).set_title('Hazardous Nature vs. Minimum Orbit Intersection vs. Absolute Magnitude')\n",
    "plt.show()"
   ]
  },
  {
   "cell_type": "code",
   "execution_count": 193,
   "metadata": {},
   "outputs": [
    {
     "data": {
      "text/html": [
       "<div>\n",
       "<style scoped>\n",
       "    .dataframe tbody tr th:only-of-type {\n",
       "        vertical-align: middle;\n",
       "    }\n",
       "\n",
       "    .dataframe tbody tr th {\n",
       "        vertical-align: top;\n",
       "    }\n",
       "\n",
       "    .dataframe thead th {\n",
       "        text-align: right;\n",
       "    }\n",
       "</style>\n",
       "<table border=\"1\" class=\"dataframe\">\n",
       "  <thead>\n",
       "    <tr style=\"text-align: right;\">\n",
       "      <th></th>\n",
       "      <th>Est Dia in KM(min)</th>\n",
       "      <th>Relative Velocity km per hr</th>\n",
       "      <th>Miss Dist.(kilometers)</th>\n",
       "      <th>Orbit Uncertainity</th>\n",
       "      <th>Jupiter Tisserand Invariant</th>\n",
       "      <th>Eccentricity</th>\n",
       "      <th>Semi Major Axis</th>\n",
       "      <th>Inclination</th>\n",
       "      <th>Asc Node Longitude</th>\n",
       "      <th>Orbital Period</th>\n",
       "      <th>Perihelion Distance</th>\n",
       "      <th>Perihelion Arg</th>\n",
       "      <th>Aphelion Dist</th>\n",
       "      <th>Mean Anomaly</th>\n",
       "      <th>Mean Motion</th>\n",
       "      <th>Hazardous</th>\n",
       "    </tr>\n",
       "  </thead>\n",
       "  <tbody>\n",
       "    <tr>\n",
       "      <th>0</th>\n",
       "      <td>0.008101</td>\n",
       "      <td>0.130487</td>\n",
       "      <td>0.839102</td>\n",
       "      <td>0.555556</td>\n",
       "      <td>0.357007</td>\n",
       "      <td>0.438763</td>\n",
       "      <td>0.177530</td>\n",
       "      <td>0.079736</td>\n",
       "      <td>0.873489</td>\n",
       "      <td>0.108378</td>\n",
       "      <td>0.596770</td>\n",
       "      <td>0.159035</td>\n",
       "      <td>0.146942</td>\n",
       "      <td>0.735825</td>\n",
       "      <td>0.258239</td>\n",
       "      <td>True</td>\n",
       "    </tr>\n",
       "    <tr>\n",
       "      <th>1</th>\n",
       "      <td>0.009311</td>\n",
       "      <td>0.401336</td>\n",
       "      <td>0.766123</td>\n",
       "      <td>0.333333</td>\n",
       "      <td>0.477522</td>\n",
       "      <td>0.361224</td>\n",
       "      <td>0.110378</td>\n",
       "      <td>0.376677</td>\n",
       "      <td>0.379866</td>\n",
       "      <td>0.062396</td>\n",
       "      <td>0.522896</td>\n",
       "      <td>0.869714</td>\n",
       "      <td>0.084790</td>\n",
       "      <td>0.482720</td>\n",
       "      <td>0.388713</td>\n",
       "      <td>False</td>\n",
       "    </tr>\n",
       "    <tr>\n",
       "      <th>2</th>\n",
       "      <td>0.014795</td>\n",
       "      <td>0.163781</td>\n",
       "      <td>0.101616</td>\n",
       "      <td>0.000000</td>\n",
       "      <td>0.345731</td>\n",
       "      <td>0.357628</td>\n",
       "      <td>0.189158</td>\n",
       "      <td>0.056020</td>\n",
       "      <td>0.720954</td>\n",
       "      <td>0.116882</td>\n",
       "      <td>0.713687</td>\n",
       "      <td>0.690049</td>\n",
       "      <td>0.142186</td>\n",
       "      <td>0.813777</td>\n",
       "      <td>0.242271</td>\n",
       "      <td>True</td>\n",
       "    </tr>\n",
       "    <tr>\n",
       "      <th>3</th>\n",
       "      <td>0.000500</td>\n",
       "      <td>0.244668</td>\n",
       "      <td>0.570624</td>\n",
       "      <td>0.666667</td>\n",
       "      <td>0.424220</td>\n",
       "      <td>0.219426</td>\n",
       "      <td>0.143620</td>\n",
       "      <td>0.104671</td>\n",
       "      <td>0.158852</td>\n",
       "      <td>0.084473</td>\n",
       "      <td>0.740847</td>\n",
       "      <td>0.051949</td>\n",
       "      <td>0.088525</td>\n",
       "      <td>0.190984</td>\n",
       "      <td>0.314430</td>\n",
       "      <td>False</td>\n",
       "    </tr>\n",
       "    <tr>\n",
       "      <th>4</th>\n",
       "      <td>0.008101</td>\n",
       "      <td>0.214576</td>\n",
       "      <td>0.815788</td>\n",
       "      <td>0.111111</td>\n",
       "      <td>0.433153</td>\n",
       "      <td>0.212992</td>\n",
       "      <td>0.136823</td>\n",
       "      <td>0.222555</td>\n",
       "      <td>0.235139</td>\n",
       "      <td>0.079847</td>\n",
       "      <td>0.727546</td>\n",
       "      <td>0.439619</td>\n",
       "      <td>0.083102</td>\n",
       "      <td>0.375475</td>\n",
       "      <td>0.327805</td>\n",
       "      <td>True</td>\n",
       "    </tr>\n",
       "  </tbody>\n",
       "</table>\n",
       "</div>"
      ],
      "text/plain": [
       "   Est Dia in KM(min)  Relative Velocity km per hr  Miss Dist.(kilometers)  \\\n",
       "0            0.008101                     0.130487                0.839102   \n",
       "1            0.009311                     0.401336                0.766123   \n",
       "2            0.014795                     0.163781                0.101616   \n",
       "3            0.000500                     0.244668                0.570624   \n",
       "4            0.008101                     0.214576                0.815788   \n",
       "\n",
       "   Orbit Uncertainity  Jupiter Tisserand Invariant  Eccentricity  \\\n",
       "0            0.555556                     0.357007      0.438763   \n",
       "1            0.333333                     0.477522      0.361224   \n",
       "2            0.000000                     0.345731      0.357628   \n",
       "3            0.666667                     0.424220      0.219426   \n",
       "4            0.111111                     0.433153      0.212992   \n",
       "\n",
       "   Semi Major Axis  Inclination  Asc Node Longitude  Orbital Period  \\\n",
       "0         0.177530     0.079736            0.873489        0.108378   \n",
       "1         0.110378     0.376677            0.379866        0.062396   \n",
       "2         0.189158     0.056020            0.720954        0.116882   \n",
       "3         0.143620     0.104671            0.158852        0.084473   \n",
       "4         0.136823     0.222555            0.235139        0.079847   \n",
       "\n",
       "   Perihelion Distance  Perihelion Arg  Aphelion Dist  Mean Anomaly  \\\n",
       "0             0.596770        0.159035       0.146942      0.735825   \n",
       "1             0.522896        0.869714       0.084790      0.482720   \n",
       "2             0.713687        0.690049       0.142186      0.813777   \n",
       "3             0.740847        0.051949       0.088525      0.190984   \n",
       "4             0.727546        0.439619       0.083102      0.375475   \n",
       "\n",
       "   Mean Motion  Hazardous  \n",
       "0     0.258239       True  \n",
       "1     0.388713      False  \n",
       "2     0.242271       True  \n",
       "3     0.314430      False  \n",
       "4     0.327805       True  "
      ]
     },
     "execution_count": 193,
     "metadata": {},
     "output_type": "execute_result"
    }
   ],
   "source": [
    "# drop most important feature\n",
    "df_new = df.drop(['Minimum Orbit Intersection','Absolute Magnitude'],axis = 1)\n",
    "df_new.head()"
   ]
  },
  {
   "cell_type": "code",
   "execution_count": 211,
   "metadata": {},
   "outputs": [
    {
     "name": "stdout",
     "output_type": "stream",
     "text": [
      "(5504, 15)\n",
      "(2360, 15)\n"
     ]
    }
   ],
   "source": [
    "# create new dataset for train and test\n",
    "\n",
    "y=df_new[\"Hazardous\"]\n",
    "x=df_new.drop([\"Hazardous\"],axis=1)\n",
    "\n",
    "# split data set into train and test\n",
    "train_x,test_x,train_y,test_y=train_test_split(x,y,test_size=0.3,random_state=5)\n",
    "print(train_x.shape)\n",
    "print(test_x.shape)"
   ]
  },
  {
   "cell_type": "code",
   "execution_count": 212,
   "metadata": {},
   "outputs": [
    {
     "name": "stdout",
     "output_type": "stream",
     "text": [
      "accuracy: 0.9432203389830508\n",
      "====================================================================================================\n",
      "              precision    recall  f1-score   support\n",
      "\n",
      "       False       0.98      0.91      0.94      1150\n",
      "        True       0.92      0.98      0.95      1210\n",
      "\n",
      "    accuracy                           0.94      2360\n",
      "   macro avg       0.95      0.94      0.94      2360\n",
      "weighted avg       0.95      0.94      0.94      2360\n",
      "\n"
     ]
    },
    {
     "name": "stderr",
     "output_type": "stream",
     "text": [
      "c:\\Users\\User\\AppData\\Local\\Programs\\Python\\Python38-32\\lib\\site-packages\\sklearn\\utils\\deprecation.py:87: FutureWarning:\n",
      "\n",
      "Function plot_confusion_matrix is deprecated; Function `plot_confusion_matrix` is deprecated in 1.0 and will be removed in 1.2. Use one of the class methods: ConfusionMatrixDisplay.from_predictions or ConfusionMatrixDisplay.from_estimator.\n",
      "\n"
     ]
    },
    {
     "data": {
      "text/plain": [
       "<sklearn.metrics._plot.confusion_matrix.ConfusionMatrixDisplay at 0x1bd51580>"
      ]
     },
     "execution_count": 212,
     "metadata": {},
     "output_type": "execute_result"
    },
    {
     "data": {
      "image/png": "[encoded data removed]",
      "text/plain": [
       "<Figure size 432x288 with 2 Axes>"
      ]
     },
     "metadata": {},
     "output_type": "display_data"
    }
   ],
   "source": [
    "# retry process with new dataset\n",
    "labels = df_new.Hazardous.unique()\n",
    "\n",
    "# define the model\n",
    "rf_model = RandomForestClassifier(n_estimators=100, max_depth=100, min_samples_split=10, n_jobs=-1, verbose=0, random_state=2)\n",
    "\n",
    "# fit and predict\n",
    "predictions, accuracy, metrics_report, rf_prf = train_test_model(rf_model, train_x, test_x, train_y, test_y, labels)\n",
    "print('accuracy: {}'.format(accuracy))\n",
    "print('='*100)\n",
    "print(metrics_report)\n",
    "plot_confusion_matrix(rf_model, test_x, test_y, display_labels=labels, xticks_rotation='vertical', cmap=\"BuPu\")"
   ]
  },
  {
   "cell_type": "code",
   "execution_count": 213,
   "metadata": {},
   "outputs": [
    {
     "name": "stdout",
     "output_type": "stream",
     "text": [
      "accuracy: 0.8050847457627118\n",
      "====================================================================================================\n",
      "              precision    recall  f1-score   support\n",
      "\n",
      "       False       0.83      0.76      0.79      1150\n",
      "        True       0.79      0.85      0.82      1210\n",
      "\n",
      "    accuracy                           0.81      2360\n",
      "   macro avg       0.81      0.80      0.80      2360\n",
      "weighted avg       0.81      0.81      0.80      2360\n",
      "\n"
     ]
    },
    {
     "name": "stderr",
     "output_type": "stream",
     "text": [
      "c:\\Users\\User\\AppData\\Local\\Programs\\Python\\Python38-32\\lib\\site-packages\\sklearn\\utils\\deprecation.py:87: FutureWarning:\n",
      "\n",
      "Function plot_confusion_matrix is deprecated; Function `plot_confusion_matrix` is deprecated in 1.0 and will be removed in 1.2. Use one of the class methods: ConfusionMatrixDisplay.from_predictions or ConfusionMatrixDisplay.from_estimator.\n",
      "\n"
     ]
    },
    {
     "data": {
      "text/plain": [
       "<sklearn.metrics._plot.confusion_matrix.ConfusionMatrixDisplay at 0x1cb89fe8>"
      ]
     },
     "execution_count": 213,
     "metadata": {},
     "output_type": "execute_result"
    },
    {
     "data": {
      "image/png": "[encoded data removed]",
      "text/plain": [
       "<Figure size 432x288 with 2 Axes>"
      ]
     },
     "metadata": {},
     "output_type": "display_data"
    }
   ],
   "source": [
    "# define the model\n",
    "nb_model = GaussianNB()\n",
    "\n",
    "# fit and predict\n",
    "predictions, accuracy, metrics_report, nb_prf = train_test_model(nb_model, train_x, test_x, train_y, test_y, labels)\n",
    "print('accuracy: {}'.format(accuracy))\n",
    "print('='*100)\n",
    "print(metrics_report)\n",
    "plot_confusion_matrix(nb_model, test_x, test_y, display_labels=labels, xticks_rotation='vertical', cmap=\"BuPu\")"
   ]
  },
  {
   "cell_type": "code",
   "execution_count": 214,
   "metadata": {},
   "outputs": [
    {
     "name": "stdout",
     "output_type": "stream",
     "text": [
      "accuracy: 0.7610169491525424\n",
      "====================================================================================================\n",
      "              precision    recall  f1-score   support\n",
      "\n",
      "       False       0.84      0.63      0.72      1150\n",
      "        True       0.72      0.89      0.79      1210\n",
      "\n",
      "    accuracy                           0.76      2360\n",
      "   macro avg       0.78      0.76      0.76      2360\n",
      "weighted avg       0.78      0.76      0.76      2360\n",
      "\n"
     ]
    },
    {
     "name": "stderr",
     "output_type": "stream",
     "text": [
      "c:\\Users\\User\\AppData\\Local\\Programs\\Python\\Python38-32\\lib\\site-packages\\sklearn\\utils\\deprecation.py:87: FutureWarning:\n",
      "\n",
      "Function plot_confusion_matrix is deprecated; Function `plot_confusion_matrix` is deprecated in 1.0 and will be removed in 1.2. Use one of the class methods: ConfusionMatrixDisplay.from_predictions or ConfusionMatrixDisplay.from_estimator.\n",
      "\n"
     ]
    },
    {
     "data": {
      "text/plain": [
       "<sklearn.metrics._plot.confusion_matrix.ConfusionMatrixDisplay at 0x2a977be0>"
      ]
     },
     "execution_count": 214,
     "metadata": {},
     "output_type": "execute_result"
    },
    {
     "data": {
      "image/png": "[encoded data removed]",
      "text/plain": [
       "<Figure size 432x288 with 2 Axes>"
      ]
     },
     "metadata": {},
     "output_type": "display_data"
    }
   ],
   "source": [
    "from sklearn.svm import SVC\n",
    "from sklearn.preprocessing import MinMaxScaler\n",
    "\n",
    "# svm = SVC(gamma='auto',verbose=False,max_iter=10000, tol=1e-5,C=0.7, kernel=\"sigmoid\",random_state=5, decision_function_shape='ovo')\n",
    "\n",
    "# define the model\n",
    "svm = LinearSVC(verbose=False, max_iter=10000, tol=1e-5,C=0.1, random_state=5)\n",
    "\n",
    "# fit and predict\n",
    "predictions, accuracy, metrics_report, svm_prf = train_test_model(svm, train_x, test_x, train_y, test_y, labels)\n",
    "print('accuracy: {}'.format(accuracy))\n",
    "print('='*100)\n",
    "print(metrics_report)\n",
    "plot_confusion_matrix(svm, test_x, test_y, display_labels=labels, xticks_rotation='vertical', cmap=\"BuPu\")"
   ]
  },
  {
   "cell_type": "code",
   "execution_count": 199,
   "metadata": {},
   "outputs": [
    {
     "data": {
      "image/png": "[encoded data removed]",
      "text/plain": [
       "<Figure size 432x288 with 1 Axes>"
      ]
     },
     "metadata": {},
     "output_type": "display_data"
    }
   ],
   "source": [
    "xx = np.array([1,2,3])\n",
    "width = 0.15\n",
    "ax = plt.subplot(111)\n",
    "ax.bar(xx + width, height=np.array(svm_prf), width=width, color='r', align='center', label='SVM')\n",
    "ax.bar(xx + 2*width, height=np.array(rf_prf), width=width, color='y', align='center', label='Random Forest')\n",
    "ax.bar(xx + 3*width, height=np.array(nb_prf), width=width, color='black', align='center', label='Naive Baiyes')\n",
    "\n",
    "\n",
    "plt.xlabel('Classification Metrics')\n",
    "plt.ylabel('Scores')\n",
    "plt.legend(loc='lower right')\n",
    "plt.show()"
   ]
  },
  {
   "cell_type": "code",
   "execution_count": 200,
   "metadata": {},
   "outputs": [
    {
     "name": "stdout",
     "output_type": "stream",
     "text": [
      "Random Forest\n",
      "Precission : 0.9389875541609262\n",
      "Recall     : 0.9351557533375715\n",
      "F1 Score   : 0.93510479230284\n",
      "\n",
      "SVM\n",
      "Precission : 0.7956670090470785\n",
      "Recall     : 0.7838525111252383\n",
      "F1 Score   : 0.7824704961771128\n",
      "\n",
      "Naive Baiyes\n",
      "Precission : 0.8103042616382683\n",
      "Recall     : 0.8061029879211697\n",
      "F1 Score   : 0.805836379715795\n"
     ]
    }
   ],
   "source": [
    "print(\"Random Forest\")\n",
    "print(\"Precission :\", rf_prf[0])\n",
    "print(\"Recall     :\", rf_prf[1])\n",
    "print(\"F1 Score   :\", rf_prf[2])\n",
    "\n",
    "print(\"\\nSVM\")\n",
    "print(\"Precission :\", svm_prf[0])\n",
    "print(\"Recall     :\", svm_prf[1])\n",
    "print(\"F1 Score   :\", svm_prf[2])\n",
    "\n",
    "print(\"\\nNaive Baiyes\")\n",
    "print(\"Precission :\", nb_prf[0])\n",
    "print(\"Recall     :\", nb_prf[1])\n",
    "print(\"F1 Score   :\", nb_prf[2])"
   ]
  }
 ],
 "metadata": {
  "interpreter": {
   "hash": "298c87bb46c0ece7abcceec7d9fcd87435e079314f0dee0953f90f5b1b40d0e0"
  },
  "kernelspec": {
   "display_name": "Python 3.8.3 32-bit",
   "language": "python",
   "name": "python3"
  },
  "language_info": {
   "codemirror_mode": {
    "name": "ipython",
    "version": 3
   },
   "file_extension": ".py",
   "mimetype": "text/x-python",
   "name": "python",
   "nbconvert_exporter": "python",
   "pygments_lexer": "ipython3",
   "version": "3.8.3"
  },
  "orig_nbformat": 4
 },
 "nbformat": 4,
 "nbformat_minor": 2
}
